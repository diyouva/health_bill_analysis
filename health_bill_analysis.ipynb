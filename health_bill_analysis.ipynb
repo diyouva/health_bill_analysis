{
  "cells": [
    {
      "attachments": {},
      "cell_type": "markdown",
      "metadata": {},
      "source": [
        "### Background Project\n",
        "Asuransi kesehatan adalah salah satu hal yang patut diperhatikan karena bersangkutan dengan\n",
        "kebutuhan perencanaan masa depan. Pengguna asuransi kesehatan diwajibkan untuk\n",
        "membayar besaran uang secara rutin (premi) kepada pihak perusahaan asuransi. Premi\n",
        "tersebut diolah oleh perusahaan asuransi untuk membayarkan tagihan kesehatan pengguna\n",
        "yang tertanggung. Penentuan nilai premi menjadi tantangan tersendiri bagi pihak asuransi\n",
        "mengingat ada banyak faktor yang dapat mempengaruhi & meningkatkan profil resiko\n",
        "pengguna.\n",
        "\n",
        "Project ini menganalisa variable-variabel yang memiliki hubungan dengan tagihan kesehatan yang diterima oleh setiap pengguna.\n",
        "Data yang digunakan adalah data personal pengguna seperti umur, gender, tempat tinggal pengguna, banyak anak tertanggung asuransi, nilai bmi, keadaan merokok atau tidaknya pengguna."
      ]
    },
    {
      "attachments": {},
      "cell_type": "markdown",
      "metadata": {},
      "source": [
        "### Exploratory Data Analysis - Health Insurance Bill Analysis"
      ]
    },
    {
      "attachments": {},
      "cell_type": "markdown",
      "metadata": {},
      "source": [
        "#### Impor Library dan Load Dataset"
      ]
    },
    {
      "cell_type": "code",
      "execution_count": 2,
      "metadata": {
        "id": "Ml9-Q__MpX4T"
      },
      "outputs": [],
      "source": [
        "import numpy as np\n",
        "import pandas as pd\n",
        "import warnings\n",
        "import seaborn as sns\n",
        "import scipy.stats as stats\n",
        "import matplotlib.pyplot as plt\n",
        "from scipy.stats import chi2_contingency"
      ]
    },
    {
      "cell_type": "code",
      "execution_count": 3,
      "metadata": {
        "colab": {
          "base_uri": "https://localhost:8080/",
          "height": 206
        },
        "id": "Ye_2oUjBqWBX",
        "outputId": "4402f1f4-54a1-4410-afdf-fb9bd81ffeb0"
      },
      "outputs": [
        {
          "data": {
            "text/html": [
              "<div>\n",
              "<style scoped>\n",
              "    .dataframe tbody tr th:only-of-type {\n",
              "        vertical-align: middle;\n",
              "    }\n",
              "\n",
              "    .dataframe tbody tr th {\n",
              "        vertical-align: top;\n",
              "    }\n",
              "\n",
              "    .dataframe thead th {\n",
              "        text-align: right;\n",
              "    }\n",
              "</style>\n",
              "<table border=\"1\" class=\"dataframe\">\n",
              "  <thead>\n",
              "    <tr style=\"text-align: right;\">\n",
              "      <th></th>\n",
              "      <th>age</th>\n",
              "      <th>sex</th>\n",
              "      <th>bmi</th>\n",
              "      <th>children</th>\n",
              "      <th>smoker</th>\n",
              "      <th>region</th>\n",
              "      <th>charges</th>\n",
              "    </tr>\n",
              "  </thead>\n",
              "  <tbody>\n",
              "    <tr>\n",
              "      <th>0</th>\n",
              "      <td>19</td>\n",
              "      <td>female</td>\n",
              "      <td>27.900</td>\n",
              "      <td>0</td>\n",
              "      <td>yes</td>\n",
              "      <td>southwest</td>\n",
              "      <td>16884.92400</td>\n",
              "    </tr>\n",
              "    <tr>\n",
              "      <th>1</th>\n",
              "      <td>18</td>\n",
              "      <td>male</td>\n",
              "      <td>33.770</td>\n",
              "      <td>1</td>\n",
              "      <td>no</td>\n",
              "      <td>southeast</td>\n",
              "      <td>1725.55230</td>\n",
              "    </tr>\n",
              "    <tr>\n",
              "      <th>2</th>\n",
              "      <td>28</td>\n",
              "      <td>male</td>\n",
              "      <td>33.000</td>\n",
              "      <td>3</td>\n",
              "      <td>no</td>\n",
              "      <td>southeast</td>\n",
              "      <td>4449.46200</td>\n",
              "    </tr>\n",
              "    <tr>\n",
              "      <th>3</th>\n",
              "      <td>33</td>\n",
              "      <td>male</td>\n",
              "      <td>22.705</td>\n",
              "      <td>0</td>\n",
              "      <td>no</td>\n",
              "      <td>northwest</td>\n",
              "      <td>21984.47061</td>\n",
              "    </tr>\n",
              "    <tr>\n",
              "      <th>4</th>\n",
              "      <td>32</td>\n",
              "      <td>male</td>\n",
              "      <td>28.880</td>\n",
              "      <td>0</td>\n",
              "      <td>no</td>\n",
              "      <td>northwest</td>\n",
              "      <td>3866.85520</td>\n",
              "    </tr>\n",
              "  </tbody>\n",
              "</table>\n",
              "</div>"
            ],
            "text/plain": [
              "   age     sex     bmi  children smoker     region      charges\n",
              "0   19  female  27.900         0    yes  southwest  16884.92400\n",
              "1   18    male  33.770         1     no  southeast   1725.55230\n",
              "2   28    male  33.000         3     no  southeast   4449.46200\n",
              "3   33    male  22.705         0     no  northwest  21984.47061\n",
              "4   32    male  28.880         0     no  northwest   3866.85520"
            ]
          },
          "execution_count": 3,
          "metadata": {},
          "output_type": "execute_result"
        }
      ],
      "source": [
        "# Load Data\n",
        "data = pd.read_csv(f'insurance.csv')\n",
        "data.head()"
      ]
    },
    {
      "attachments": {},
      "cell_type": "markdown",
      "metadata": {},
      "source": [
        "#### Memeriksa Data"
      ]
    },
    {
      "cell_type": "code",
      "execution_count": 4,
      "metadata": {
        "colab": {
          "base_uri": "https://localhost:8080/"
        },
        "id": "y1N-mLKRqoG4",
        "outputId": "201335ac-ae99-4e51-f83e-a9909b7b9464"
      },
      "outputs": [
        {
          "name": "stdout",
          "output_type": "stream",
          "text": [
            "<class 'pandas.core.frame.DataFrame'>\n",
            "RangeIndex: 1338 entries, 0 to 1337\n",
            "Data columns (total 7 columns):\n",
            " #   Column    Non-Null Count  Dtype  \n",
            "---  ------    --------------  -----  \n",
            " 0   age       1338 non-null   int64  \n",
            " 1   sex       1338 non-null   object \n",
            " 2   bmi       1338 non-null   float64\n",
            " 3   children  1338 non-null   int64  \n",
            " 4   smoker    1338 non-null   object \n",
            " 5   region    1338 non-null   object \n",
            " 6   charges   1338 non-null   float64\n",
            "dtypes: float64(2), int64(2), object(3)\n",
            "memory usage: 73.3+ KB\n"
          ]
        },
        {
          "data": {
            "text/plain": [
              "age         0\n",
              "sex         0\n",
              "bmi         0\n",
              "children    0\n",
              "smoker      0\n",
              "region      0\n",
              "charges     0\n",
              "dtype: int64"
            ]
          },
          "execution_count": 4,
          "metadata": {},
          "output_type": "execute_result"
        }
      ],
      "source": [
        "data.info()\n",
        "data.isnull().sum()"
      ]
    },
    {
      "attachments": {},
      "cell_type": "markdown",
      "metadata": {
        "id": "irewK9wSrUg_"
      },
      "source": [
        "#### Descriptive Statistics"
      ]
    },
    {
      "cell_type": "code",
      "execution_count": null,
      "metadata": {
        "colab": {
          "base_uri": "https://localhost:8080/",
          "height": 300
        },
        "id": "0VMQZjcTsZ5O",
        "outputId": "961d7658-3240-43dd-f350-5f48288c8c4c"
      },
      "outputs": [
        {
          "data": {
            "text/html": [
              "\n",
              "  <div id=\"df-db26f906-dc81-442f-b880-eb0e69bff6ab\">\n",
              "    <div class=\"colab-df-container\">\n",
              "      <div>\n",
              "<style scoped>\n",
              "    .dataframe tbody tr th:only-of-type {\n",
              "        vertical-align: middle;\n",
              "    }\n",
              "\n",
              "    .dataframe tbody tr th {\n",
              "        vertical-align: top;\n",
              "    }\n",
              "\n",
              "    .dataframe thead th {\n",
              "        text-align: right;\n",
              "    }\n",
              "</style>\n",
              "<table border=\"1\" class=\"dataframe\">\n",
              "  <thead>\n",
              "    <tr style=\"text-align: right;\">\n",
              "      <th></th>\n",
              "      <th>age</th>\n",
              "      <th>bmi</th>\n",
              "      <th>children</th>\n",
              "      <th>charges</th>\n",
              "    </tr>\n",
              "  </thead>\n",
              "  <tbody>\n",
              "    <tr>\n",
              "      <th>count</th>\n",
              "      <td>274.000000</td>\n",
              "      <td>274.000000</td>\n",
              "      <td>274.000000</td>\n",
              "      <td>274.000000</td>\n",
              "    </tr>\n",
              "    <tr>\n",
              "      <th>mean</th>\n",
              "      <td>38.514599</td>\n",
              "      <td>30.708449</td>\n",
              "      <td>1.113139</td>\n",
              "      <td>32050.231832</td>\n",
              "    </tr>\n",
              "    <tr>\n",
              "      <th>std</th>\n",
              "      <td>13.923186</td>\n",
              "      <td>6.318644</td>\n",
              "      <td>1.157066</td>\n",
              "      <td>11541.547176</td>\n",
              "    </tr>\n",
              "    <tr>\n",
              "      <th>min</th>\n",
              "      <td>18.000000</td>\n",
              "      <td>17.195000</td>\n",
              "      <td>0.000000</td>\n",
              "      <td>12829.455100</td>\n",
              "    </tr>\n",
              "    <tr>\n",
              "      <th>25%</th>\n",
              "      <td>27.000000</td>\n",
              "      <td>26.083750</td>\n",
              "      <td>0.000000</td>\n",
              "      <td>20826.244213</td>\n",
              "    </tr>\n",
              "    <tr>\n",
              "      <th>50%</th>\n",
              "      <td>38.000000</td>\n",
              "      <td>30.447500</td>\n",
              "      <td>1.000000</td>\n",
              "      <td>34456.348450</td>\n",
              "    </tr>\n",
              "    <tr>\n",
              "      <th>75%</th>\n",
              "      <td>49.000000</td>\n",
              "      <td>35.200000</td>\n",
              "      <td>2.000000</td>\n",
              "      <td>41019.207275</td>\n",
              "    </tr>\n",
              "    <tr>\n",
              "      <th>max</th>\n",
              "      <td>64.000000</td>\n",
              "      <td>52.580000</td>\n",
              "      <td>5.000000</td>\n",
              "      <td>63770.428010</td>\n",
              "    </tr>\n",
              "  </tbody>\n",
              "</table>\n",
              "</div>\n",
              "      <button class=\"colab-df-convert\" onclick=\"convertToInteractive('df-db26f906-dc81-442f-b880-eb0e69bff6ab')\"\n",
              "              title=\"Convert this dataframe to an interactive table.\"\n",
              "              style=\"display:none;\">\n",
              "        \n",
              "  <svg xmlns=\"http://www.w3.org/2000/svg\" height=\"24px\"viewBox=\"0 0 24 24\"\n",
              "       width=\"24px\">\n",
              "    <path d=\"M0 0h24v24H0V0z\" fill=\"none\"/>\n",
              "    <path d=\"M18.56 5.44l.94 2.06.94-2.06 2.06-.94-2.06-.94-.94-2.06-.94 2.06-2.06.94zm-11 1L8.5 8.5l.94-2.06 2.06-.94-2.06-.94L8.5 2.5l-.94 2.06-2.06.94zm10 10l.94 2.06.94-2.06 2.06-.94-2.06-.94-.94-2.06-.94 2.06-2.06.94z\"/><path d=\"M17.41 7.96l-1.37-1.37c-.4-.4-.92-.59-1.43-.59-.52 0-1.04.2-1.43.59L10.3 9.45l-7.72 7.72c-.78.78-.78 2.05 0 2.83L4 21.41c.39.39.9.59 1.41.59.51 0 1.02-.2 1.41-.59l7.78-7.78 2.81-2.81c.8-.78.8-2.07 0-2.86zM5.41 20L4 18.59l7.72-7.72 1.47 1.35L5.41 20z\"/>\n",
              "  </svg>\n",
              "      </button>\n",
              "      \n",
              "  <style>\n",
              "    .colab-df-container {\n",
              "      display:flex;\n",
              "      flex-wrap:wrap;\n",
              "      gap: 12px;\n",
              "    }\n",
              "\n",
              "    .colab-df-convert {\n",
              "      background-color: #E8F0FE;\n",
              "      border: none;\n",
              "      border-radius: 50%;\n",
              "      cursor: pointer;\n",
              "      display: none;\n",
              "      fill: #1967D2;\n",
              "      height: 32px;\n",
              "      padding: 0 0 0 0;\n",
              "      width: 32px;\n",
              "    }\n",
              "\n",
              "    .colab-df-convert:hover {\n",
              "      background-color: #E2EBFA;\n",
              "      box-shadow: 0px 1px 2px rgba(60, 64, 67, 0.3), 0px 1px 3px 1px rgba(60, 64, 67, 0.15);\n",
              "      fill: #174EA6;\n",
              "    }\n",
              "\n",
              "    [theme=dark] .colab-df-convert {\n",
              "      background-color: #3B4455;\n",
              "      fill: #D2E3FC;\n",
              "    }\n",
              "\n",
              "    [theme=dark] .colab-df-convert:hover {\n",
              "      background-color: #434B5C;\n",
              "      box-shadow: 0px 1px 3px 1px rgba(0, 0, 0, 0.15);\n",
              "      filter: drop-shadow(0px 1px 2px rgba(0, 0, 0, 0.3));\n",
              "      fill: #FFFFFF;\n",
              "    }\n",
              "  </style>\n",
              "\n",
              "      <script>\n",
              "        const buttonEl =\n",
              "          document.querySelector('#df-db26f906-dc81-442f-b880-eb0e69bff6ab button.colab-df-convert');\n",
              "        buttonEl.style.display =\n",
              "          google.colab.kernel.accessAllowed ? 'block' : 'none';\n",
              "\n",
              "        async function convertToInteractive(key) {\n",
              "          const element = document.querySelector('#df-db26f906-dc81-442f-b880-eb0e69bff6ab');\n",
              "          const dataTable =\n",
              "            await google.colab.kernel.invokeFunction('convertToInteractive',\n",
              "                                                     [key], {});\n",
              "          if (!dataTable) return;\n",
              "\n",
              "          const docLinkHtml = 'Like what you see? Visit the ' +\n",
              "            '<a target=\"_blank\" href=https://colab.research.google.com/notebooks/data_table.ipynb>data table notebook</a>'\n",
              "            + ' to learn more about interactive tables.';\n",
              "          element.innerHTML = '';\n",
              "          dataTable['output_type'] = 'display_data';\n",
              "          await google.colab.output.renderOutput(dataTable, element);\n",
              "          const docLink = document.createElement('div');\n",
              "          docLink.innerHTML = docLinkHtml;\n",
              "          element.appendChild(docLink);\n",
              "        }\n",
              "      </script>\n",
              "    </div>\n",
              "  </div>\n",
              "  "
            ],
            "text/plain": [
              "              age         bmi    children       charges\n",
              "count  274.000000  274.000000  274.000000    274.000000\n",
              "mean    38.514599   30.708449    1.113139  32050.231832\n",
              "std     13.923186    6.318644    1.157066  11541.547176\n",
              "min     18.000000   17.195000    0.000000  12829.455100\n",
              "25%     27.000000   26.083750    0.000000  20826.244213\n",
              "50%     38.000000   30.447500    1.000000  34456.348450\n",
              "75%     49.000000   35.200000    2.000000  41019.207275\n",
              "max     64.000000   52.580000    5.000000  63770.428010"
            ]
          },
          "execution_count": 62,
          "metadata": {},
          "output_type": "execute_result"
        }
      ],
      "source": [
        "# analisis dasar non-smoker\n",
        "data[data['smoker'] == 'no'].describe()"
      ]
    },
    {
      "cell_type": "code",
      "execution_count": null,
      "metadata": {
        "colab": {
          "base_uri": "https://localhost:8080/",
          "height": 300
        },
        "id": "V3jpMYYHssCp",
        "outputId": "b19d7183-edb7-4407-c857-706c5e43fe54"
      },
      "outputs": [
        {
          "data": {
            "text/html": [
              "\n",
              "  <div id=\"df-47fddee7-c791-4a39-8c48-e4780f7b4bd6\">\n",
              "    <div class=\"colab-df-container\">\n",
              "      <div>\n",
              "<style scoped>\n",
              "    .dataframe tbody tr th:only-of-type {\n",
              "        vertical-align: middle;\n",
              "    }\n",
              "\n",
              "    .dataframe tbody tr th {\n",
              "        vertical-align: top;\n",
              "    }\n",
              "\n",
              "    .dataframe thead th {\n",
              "        text-align: right;\n",
              "    }\n",
              "</style>\n",
              "<table border=\"1\" class=\"dataframe\">\n",
              "  <thead>\n",
              "    <tr style=\"text-align: right;\">\n",
              "      <th></th>\n",
              "      <th>age</th>\n",
              "      <th>bmi</th>\n",
              "      <th>children</th>\n",
              "      <th>charges</th>\n",
              "    </tr>\n",
              "  </thead>\n",
              "  <tbody>\n",
              "    <tr>\n",
              "      <th>count</th>\n",
              "      <td>1064.000000</td>\n",
              "      <td>1064.000000</td>\n",
              "      <td>1064.000000</td>\n",
              "      <td>1064.000000</td>\n",
              "    </tr>\n",
              "    <tr>\n",
              "      <th>mean</th>\n",
              "      <td>39.385338</td>\n",
              "      <td>30.651795</td>\n",
              "      <td>1.090226</td>\n",
              "      <td>8434.268298</td>\n",
              "    </tr>\n",
              "    <tr>\n",
              "      <th>std</th>\n",
              "      <td>14.083410</td>\n",
              "      <td>6.043111</td>\n",
              "      <td>1.218136</td>\n",
              "      <td>5993.781819</td>\n",
              "    </tr>\n",
              "    <tr>\n",
              "      <th>min</th>\n",
              "      <td>18.000000</td>\n",
              "      <td>15.960000</td>\n",
              "      <td>0.000000</td>\n",
              "      <td>1121.873900</td>\n",
              "    </tr>\n",
              "    <tr>\n",
              "      <th>25%</th>\n",
              "      <td>26.750000</td>\n",
              "      <td>26.315000</td>\n",
              "      <td>0.000000</td>\n",
              "      <td>3986.438700</td>\n",
              "    </tr>\n",
              "    <tr>\n",
              "      <th>50%</th>\n",
              "      <td>40.000000</td>\n",
              "      <td>30.352500</td>\n",
              "      <td>1.000000</td>\n",
              "      <td>7345.405300</td>\n",
              "    </tr>\n",
              "    <tr>\n",
              "      <th>75%</th>\n",
              "      <td>52.000000</td>\n",
              "      <td>34.430000</td>\n",
              "      <td>2.000000</td>\n",
              "      <td>11362.887050</td>\n",
              "    </tr>\n",
              "    <tr>\n",
              "      <th>max</th>\n",
              "      <td>64.000000</td>\n",
              "      <td>53.130000</td>\n",
              "      <td>5.000000</td>\n",
              "      <td>36910.608030</td>\n",
              "    </tr>\n",
              "  </tbody>\n",
              "</table>\n",
              "</div>\n",
              "      <button class=\"colab-df-convert\" onclick=\"convertToInteractive('df-47fddee7-c791-4a39-8c48-e4780f7b4bd6')\"\n",
              "              title=\"Convert this dataframe to an interactive table.\"\n",
              "              style=\"display:none;\">\n",
              "        \n",
              "  <svg xmlns=\"http://www.w3.org/2000/svg\" height=\"24px\"viewBox=\"0 0 24 24\"\n",
              "       width=\"24px\">\n",
              "    <path d=\"M0 0h24v24H0V0z\" fill=\"none\"/>\n",
              "    <path d=\"M18.56 5.44l.94 2.06.94-2.06 2.06-.94-2.06-.94-.94-2.06-.94 2.06-2.06.94zm-11 1L8.5 8.5l.94-2.06 2.06-.94-2.06-.94L8.5 2.5l-.94 2.06-2.06.94zm10 10l.94 2.06.94-2.06 2.06-.94-2.06-.94-.94-2.06-.94 2.06-2.06.94z\"/><path d=\"M17.41 7.96l-1.37-1.37c-.4-.4-.92-.59-1.43-.59-.52 0-1.04.2-1.43.59L10.3 9.45l-7.72 7.72c-.78.78-.78 2.05 0 2.83L4 21.41c.39.39.9.59 1.41.59.51 0 1.02-.2 1.41-.59l7.78-7.78 2.81-2.81c.8-.78.8-2.07 0-2.86zM5.41 20L4 18.59l7.72-7.72 1.47 1.35L5.41 20z\"/>\n",
              "  </svg>\n",
              "      </button>\n",
              "      \n",
              "  <style>\n",
              "    .colab-df-container {\n",
              "      display:flex;\n",
              "      flex-wrap:wrap;\n",
              "      gap: 12px;\n",
              "    }\n",
              "\n",
              "    .colab-df-convert {\n",
              "      background-color: #E8F0FE;\n",
              "      border: none;\n",
              "      border-radius: 50%;\n",
              "      cursor: pointer;\n",
              "      display: none;\n",
              "      fill: #1967D2;\n",
              "      height: 32px;\n",
              "      padding: 0 0 0 0;\n",
              "      width: 32px;\n",
              "    }\n",
              "\n",
              "    .colab-df-convert:hover {\n",
              "      background-color: #E2EBFA;\n",
              "      box-shadow: 0px 1px 2px rgba(60, 64, 67, 0.3), 0px 1px 3px 1px rgba(60, 64, 67, 0.15);\n",
              "      fill: #174EA6;\n",
              "    }\n",
              "\n",
              "    [theme=dark] .colab-df-convert {\n",
              "      background-color: #3B4455;\n",
              "      fill: #D2E3FC;\n",
              "    }\n",
              "\n",
              "    [theme=dark] .colab-df-convert:hover {\n",
              "      background-color: #434B5C;\n",
              "      box-shadow: 0px 1px 3px 1px rgba(0, 0, 0, 0.15);\n",
              "      filter: drop-shadow(0px 1px 2px rgba(0, 0, 0, 0.3));\n",
              "      fill: #FFFFFF;\n",
              "    }\n",
              "  </style>\n",
              "\n",
              "      <script>\n",
              "        const buttonEl =\n",
              "          document.querySelector('#df-47fddee7-c791-4a39-8c48-e4780f7b4bd6 button.colab-df-convert');\n",
              "        buttonEl.style.display =\n",
              "          google.colab.kernel.accessAllowed ? 'block' : 'none';\n",
              "\n",
              "        async function convertToInteractive(key) {\n",
              "          const element = document.querySelector('#df-47fddee7-c791-4a39-8c48-e4780f7b4bd6');\n",
              "          const dataTable =\n",
              "            await google.colab.kernel.invokeFunction('convertToInteractive',\n",
              "                                                     [key], {});\n",
              "          if (!dataTable) return;\n",
              "\n",
              "          const docLinkHtml = 'Like what you see? Visit the ' +\n",
              "            '<a target=\"_blank\" href=https://colab.research.google.com/notebooks/data_table.ipynb>data table notebook</a>'\n",
              "            + ' to learn more about interactive tables.';\n",
              "          element.innerHTML = '';\n",
              "          dataTable['output_type'] = 'display_data';\n",
              "          await google.colab.output.renderOutput(dataTable, element);\n",
              "          const docLink = document.createElement('div');\n",
              "          docLink.innerHTML = docLinkHtml;\n",
              "          element.appendChild(docLink);\n",
              "        }\n",
              "      </script>\n",
              "    </div>\n",
              "  </div>\n",
              "  "
            ],
            "text/plain": [
              "               age          bmi     children       charges\n",
              "count  1064.000000  1064.000000  1064.000000   1064.000000\n",
              "mean     39.385338    30.651795     1.090226   8434.268298\n",
              "std      14.083410     6.043111     1.218136   5993.781819\n",
              "min      18.000000    15.960000     0.000000   1121.873900\n",
              "25%      26.750000    26.315000     0.000000   3986.438700\n",
              "50%      40.000000    30.352500     1.000000   7345.405300\n",
              "75%      52.000000    34.430000     2.000000  11362.887050\n",
              "max      64.000000    53.130000     5.000000  36910.608030"
            ]
          },
          "execution_count": 63,
          "metadata": {},
          "output_type": "execute_result"
        }
      ],
      "source": [
        "# analisis dasar smoker\n",
        "data[data['smoker'] == 'yes'].describe()"
      ]
    },
    {
      "cell_type": "markdown",
      "metadata": {
        "id": "TQJ5h0KBwy5i"
      },
      "source": [
        "3. Rata-rata & Median Berdasarkan BMI\n",
        "\n",
        "Kategori BMI:\n",
        "\n",
        "*   BMI < 25 = BMI sehat\n",
        "*   BMI < 25 = BMI tidak sehat (kelebihan berat badan)"
      ]
    },
    {
      "cell_type": "code",
      "execution_count": null,
      "metadata": {
        "colab": {
          "base_uri": "https://localhost:8080/",
          "height": 300
        },
        "id": "_71HvyiawgJm",
        "outputId": "baf5cfad-c7c3-4220-c6fa-12ed6495514f"
      },
      "outputs": [
        {
          "data": {
            "text/html": [
              "\n",
              "  <div id=\"df-a0aa6322-ff59-4567-b452-74e67b53a4fc\">\n",
              "    <div class=\"colab-df-container\">\n",
              "      <div>\n",
              "<style scoped>\n",
              "    .dataframe tbody tr th:only-of-type {\n",
              "        vertical-align: middle;\n",
              "    }\n",
              "\n",
              "    .dataframe tbody tr th {\n",
              "        vertical-align: top;\n",
              "    }\n",
              "\n",
              "    .dataframe thead th {\n",
              "        text-align: right;\n",
              "    }\n",
              "</style>\n",
              "<table border=\"1\" class=\"dataframe\">\n",
              "  <thead>\n",
              "    <tr style=\"text-align: right;\">\n",
              "      <th></th>\n",
              "      <th>age</th>\n",
              "      <th>bmi</th>\n",
              "      <th>children</th>\n",
              "      <th>charges</th>\n",
              "    </tr>\n",
              "  </thead>\n",
              "  <tbody>\n",
              "    <tr>\n",
              "      <th>count</th>\n",
              "      <td>245.000000</td>\n",
              "      <td>245.000000</td>\n",
              "      <td>245.000000</td>\n",
              "      <td>245.000000</td>\n",
              "    </tr>\n",
              "    <tr>\n",
              "      <th>mean</th>\n",
              "      <td>36.375510</td>\n",
              "      <td>22.203898</td>\n",
              "      <td>1.122449</td>\n",
              "      <td>10282.224474</td>\n",
              "    </tr>\n",
              "    <tr>\n",
              "      <th>std</th>\n",
              "      <td>13.606811</td>\n",
              "      <td>2.103806</td>\n",
              "      <td>1.238598</td>\n",
              "      <td>7520.485850</td>\n",
              "    </tr>\n",
              "    <tr>\n",
              "      <th>min</th>\n",
              "      <td>18.000000</td>\n",
              "      <td>15.960000</td>\n",
              "      <td>0.000000</td>\n",
              "      <td>1121.873900</td>\n",
              "    </tr>\n",
              "    <tr>\n",
              "      <th>25%</th>\n",
              "      <td>24.000000</td>\n",
              "      <td>20.800000</td>\n",
              "      <td>0.000000</td>\n",
              "      <td>3861.209650</td>\n",
              "    </tr>\n",
              "    <tr>\n",
              "      <th>50%</th>\n",
              "      <td>35.000000</td>\n",
              "      <td>22.705000</td>\n",
              "      <td>1.000000</td>\n",
              "      <td>8582.302300</td>\n",
              "    </tr>\n",
              "    <tr>\n",
              "      <th>75%</th>\n",
              "      <td>47.000000</td>\n",
              "      <td>23.900000</td>\n",
              "      <td>2.000000</td>\n",
              "      <td>14571.890800</td>\n",
              "    </tr>\n",
              "    <tr>\n",
              "      <th>max</th>\n",
              "      <td>64.000000</td>\n",
              "      <td>24.985000</td>\n",
              "      <td>5.000000</td>\n",
              "      <td>35069.374520</td>\n",
              "    </tr>\n",
              "  </tbody>\n",
              "</table>\n",
              "</div>\n",
              "      <button class=\"colab-df-convert\" onclick=\"convertToInteractive('df-a0aa6322-ff59-4567-b452-74e67b53a4fc')\"\n",
              "              title=\"Convert this dataframe to an interactive table.\"\n",
              "              style=\"display:none;\">\n",
              "        \n",
              "  <svg xmlns=\"http://www.w3.org/2000/svg\" height=\"24px\"viewBox=\"0 0 24 24\"\n",
              "       width=\"24px\">\n",
              "    <path d=\"M0 0h24v24H0V0z\" fill=\"none\"/>\n",
              "    <path d=\"M18.56 5.44l.94 2.06.94-2.06 2.06-.94-2.06-.94-.94-2.06-.94 2.06-2.06.94zm-11 1L8.5 8.5l.94-2.06 2.06-.94-2.06-.94L8.5 2.5l-.94 2.06-2.06.94zm10 10l.94 2.06.94-2.06 2.06-.94-2.06-.94-.94-2.06-.94 2.06-2.06.94z\"/><path d=\"M17.41 7.96l-1.37-1.37c-.4-.4-.92-.59-1.43-.59-.52 0-1.04.2-1.43.59L10.3 9.45l-7.72 7.72c-.78.78-.78 2.05 0 2.83L4 21.41c.39.39.9.59 1.41.59.51 0 1.02-.2 1.41-.59l7.78-7.78 2.81-2.81c.8-.78.8-2.07 0-2.86zM5.41 20L4 18.59l7.72-7.72 1.47 1.35L5.41 20z\"/>\n",
              "  </svg>\n",
              "      </button>\n",
              "      \n",
              "  <style>\n",
              "    .colab-df-container {\n",
              "      display:flex;\n",
              "      flex-wrap:wrap;\n",
              "      gap: 12px;\n",
              "    }\n",
              "\n",
              "    .colab-df-convert {\n",
              "      background-color: #E8F0FE;\n",
              "      border: none;\n",
              "      border-radius: 50%;\n",
              "      cursor: pointer;\n",
              "      display: none;\n",
              "      fill: #1967D2;\n",
              "      height: 32px;\n",
              "      padding: 0 0 0 0;\n",
              "      width: 32px;\n",
              "    }\n",
              "\n",
              "    .colab-df-convert:hover {\n",
              "      background-color: #E2EBFA;\n",
              "      box-shadow: 0px 1px 2px rgba(60, 64, 67, 0.3), 0px 1px 3px 1px rgba(60, 64, 67, 0.15);\n",
              "      fill: #174EA6;\n",
              "    }\n",
              "\n",
              "    [theme=dark] .colab-df-convert {\n",
              "      background-color: #3B4455;\n",
              "      fill: #D2E3FC;\n",
              "    }\n",
              "\n",
              "    [theme=dark] .colab-df-convert:hover {\n",
              "      background-color: #434B5C;\n",
              "      box-shadow: 0px 1px 3px 1px rgba(0, 0, 0, 0.15);\n",
              "      filter: drop-shadow(0px 1px 2px rgba(0, 0, 0, 0.3));\n",
              "      fill: #FFFFFF;\n",
              "    }\n",
              "  </style>\n",
              "\n",
              "      <script>\n",
              "        const buttonEl =\n",
              "          document.querySelector('#df-a0aa6322-ff59-4567-b452-74e67b53a4fc button.colab-df-convert');\n",
              "        buttonEl.style.display =\n",
              "          google.colab.kernel.accessAllowed ? 'block' : 'none';\n",
              "\n",
              "        async function convertToInteractive(key) {\n",
              "          const element = document.querySelector('#df-a0aa6322-ff59-4567-b452-74e67b53a4fc');\n",
              "          const dataTable =\n",
              "            await google.colab.kernel.invokeFunction('convertToInteractive',\n",
              "                                                     [key], {});\n",
              "          if (!dataTable) return;\n",
              "\n",
              "          const docLinkHtml = 'Like what you see? Visit the ' +\n",
              "            '<a target=\"_blank\" href=https://colab.research.google.com/notebooks/data_table.ipynb>data table notebook</a>'\n",
              "            + ' to learn more about interactive tables.';\n",
              "          element.innerHTML = '';\n",
              "          dataTable['output_type'] = 'display_data';\n",
              "          await google.colab.output.renderOutput(dataTable, element);\n",
              "          const docLink = document.createElement('div');\n",
              "          docLink.innerHTML = docLinkHtml;\n",
              "          element.appendChild(docLink);\n",
              "        }\n",
              "      </script>\n",
              "    </div>\n",
              "  </div>\n",
              "  "
            ],
            "text/plain": [
              "              age         bmi    children       charges\n",
              "count  245.000000  245.000000  245.000000    245.000000\n",
              "mean    36.375510   22.203898    1.122449  10282.224474\n",
              "std     13.606811    2.103806    1.238598   7520.485850\n",
              "min     18.000000   15.960000    0.000000   1121.873900\n",
              "25%     24.000000   20.800000    0.000000   3861.209650\n",
              "50%     35.000000   22.705000    1.000000   8582.302300\n",
              "75%     47.000000   23.900000    2.000000  14571.890800\n",
              "max     64.000000   24.985000    5.000000  35069.374520"
            ]
          },
          "execution_count": 64,
          "metadata": {},
          "output_type": "execute_result"
        }
      ],
      "source": [
        "# a. Rata-rata & Median Pemegang Asuransi dengan BMI < 25\n",
        "data[data['bmi'] < 25].describe()"
      ]
    },
    {
      "cell_type": "code",
      "execution_count": null,
      "metadata": {
        "colab": {
          "base_uri": "https://localhost:8080/",
          "height": 300
        },
        "id": "hvJQvXIpxrpM",
        "outputId": "d2098589-b0f5-4f7b-de27-4018993332c2"
      },
      "outputs": [
        {
          "data": {
            "text/html": [
              "\n",
              "  <div id=\"df-bbb3c792-aa3a-4f4a-99ea-859beb227bd5\">\n",
              "    <div class=\"colab-df-container\">\n",
              "      <div>\n",
              "<style scoped>\n",
              "    .dataframe tbody tr th:only-of-type {\n",
              "        vertical-align: middle;\n",
              "    }\n",
              "\n",
              "    .dataframe tbody tr th {\n",
              "        vertical-align: top;\n",
              "    }\n",
              "\n",
              "    .dataframe thead th {\n",
              "        text-align: right;\n",
              "    }\n",
              "</style>\n",
              "<table border=\"1\" class=\"dataframe\">\n",
              "  <thead>\n",
              "    <tr style=\"text-align: right;\">\n",
              "      <th></th>\n",
              "      <th>age</th>\n",
              "      <th>bmi</th>\n",
              "      <th>children</th>\n",
              "      <th>charges</th>\n",
              "    </tr>\n",
              "  </thead>\n",
              "  <tbody>\n",
              "    <tr>\n",
              "      <th>count</th>\n",
              "      <td>1091.000000</td>\n",
              "      <td>1091.000000</td>\n",
              "      <td>1091.000000</td>\n",
              "      <td>1091.000000</td>\n",
              "    </tr>\n",
              "    <tr>\n",
              "      <th>mean</th>\n",
              "      <td>39.817599</td>\n",
              "      <td>32.573483</td>\n",
              "      <td>1.089826</td>\n",
              "      <td>13946.476035</td>\n",
              "    </tr>\n",
              "    <tr>\n",
              "      <th>std</th>\n",
              "      <td>14.071792</td>\n",
              "      <td>4.982788</td>\n",
              "      <td>1.199081</td>\n",
              "      <td>12834.725537</td>\n",
              "    </tr>\n",
              "    <tr>\n",
              "      <th>min</th>\n",
              "      <td>18.000000</td>\n",
              "      <td>25.080000</td>\n",
              "      <td>0.000000</td>\n",
              "      <td>1131.506600</td>\n",
              "    </tr>\n",
              "    <tr>\n",
              "      <th>25%</th>\n",
              "      <td>27.000000</td>\n",
              "      <td>28.600000</td>\n",
              "      <td>0.000000</td>\n",
              "      <td>4889.518150</td>\n",
              "    </tr>\n",
              "    <tr>\n",
              "      <th>50%</th>\n",
              "      <td>40.000000</td>\n",
              "      <td>31.900000</td>\n",
              "      <td>1.000000</td>\n",
              "      <td>9563.029000</td>\n",
              "    </tr>\n",
              "    <tr>\n",
              "      <th>75%</th>\n",
              "      <td>52.000000</td>\n",
              "      <td>35.815000</td>\n",
              "      <td>2.000000</td>\n",
              "      <td>17654.442975</td>\n",
              "    </tr>\n",
              "    <tr>\n",
              "      <th>max</th>\n",
              "      <td>64.000000</td>\n",
              "      <td>53.130000</td>\n",
              "      <td>5.000000</td>\n",
              "      <td>63770.428010</td>\n",
              "    </tr>\n",
              "  </tbody>\n",
              "</table>\n",
              "</div>\n",
              "      <button class=\"colab-df-convert\" onclick=\"convertToInteractive('df-bbb3c792-aa3a-4f4a-99ea-859beb227bd5')\"\n",
              "              title=\"Convert this dataframe to an interactive table.\"\n",
              "              style=\"display:none;\">\n",
              "        \n",
              "  <svg xmlns=\"http://www.w3.org/2000/svg\" height=\"24px\"viewBox=\"0 0 24 24\"\n",
              "       width=\"24px\">\n",
              "    <path d=\"M0 0h24v24H0V0z\" fill=\"none\"/>\n",
              "    <path d=\"M18.56 5.44l.94 2.06.94-2.06 2.06-.94-2.06-.94-.94-2.06-.94 2.06-2.06.94zm-11 1L8.5 8.5l.94-2.06 2.06-.94-2.06-.94L8.5 2.5l-.94 2.06-2.06.94zm10 10l.94 2.06.94-2.06 2.06-.94-2.06-.94-.94-2.06-.94 2.06-2.06.94z\"/><path d=\"M17.41 7.96l-1.37-1.37c-.4-.4-.92-.59-1.43-.59-.52 0-1.04.2-1.43.59L10.3 9.45l-7.72 7.72c-.78.78-.78 2.05 0 2.83L4 21.41c.39.39.9.59 1.41.59.51 0 1.02-.2 1.41-.59l7.78-7.78 2.81-2.81c.8-.78.8-2.07 0-2.86zM5.41 20L4 18.59l7.72-7.72 1.47 1.35L5.41 20z\"/>\n",
              "  </svg>\n",
              "      </button>\n",
              "      \n",
              "  <style>\n",
              "    .colab-df-container {\n",
              "      display:flex;\n",
              "      flex-wrap:wrap;\n",
              "      gap: 12px;\n",
              "    }\n",
              "\n",
              "    .colab-df-convert {\n",
              "      background-color: #E8F0FE;\n",
              "      border: none;\n",
              "      border-radius: 50%;\n",
              "      cursor: pointer;\n",
              "      display: none;\n",
              "      fill: #1967D2;\n",
              "      height: 32px;\n",
              "      padding: 0 0 0 0;\n",
              "      width: 32px;\n",
              "    }\n",
              "\n",
              "    .colab-df-convert:hover {\n",
              "      background-color: #E2EBFA;\n",
              "      box-shadow: 0px 1px 2px rgba(60, 64, 67, 0.3), 0px 1px 3px 1px rgba(60, 64, 67, 0.15);\n",
              "      fill: #174EA6;\n",
              "    }\n",
              "\n",
              "    [theme=dark] .colab-df-convert {\n",
              "      background-color: #3B4455;\n",
              "      fill: #D2E3FC;\n",
              "    }\n",
              "\n",
              "    [theme=dark] .colab-df-convert:hover {\n",
              "      background-color: #434B5C;\n",
              "      box-shadow: 0px 1px 3px 1px rgba(0, 0, 0, 0.15);\n",
              "      filter: drop-shadow(0px 1px 2px rgba(0, 0, 0, 0.3));\n",
              "      fill: #FFFFFF;\n",
              "    }\n",
              "  </style>\n",
              "\n",
              "      <script>\n",
              "        const buttonEl =\n",
              "          document.querySelector('#df-bbb3c792-aa3a-4f4a-99ea-859beb227bd5 button.colab-df-convert');\n",
              "        buttonEl.style.display =\n",
              "          google.colab.kernel.accessAllowed ? 'block' : 'none';\n",
              "\n",
              "        async function convertToInteractive(key) {\n",
              "          const element = document.querySelector('#df-bbb3c792-aa3a-4f4a-99ea-859beb227bd5');\n",
              "          const dataTable =\n",
              "            await google.colab.kernel.invokeFunction('convertToInteractive',\n",
              "                                                     [key], {});\n",
              "          if (!dataTable) return;\n",
              "\n",
              "          const docLinkHtml = 'Like what you see? Visit the ' +\n",
              "            '<a target=\"_blank\" href=https://colab.research.google.com/notebooks/data_table.ipynb>data table notebook</a>'\n",
              "            + ' to learn more about interactive tables.';\n",
              "          element.innerHTML = '';\n",
              "          dataTable['output_type'] = 'display_data';\n",
              "          await google.colab.output.renderOutput(dataTable, element);\n",
              "          const docLink = document.createElement('div');\n",
              "          docLink.innerHTML = docLinkHtml;\n",
              "          element.appendChild(docLink);\n",
              "        }\n",
              "      </script>\n",
              "    </div>\n",
              "  </div>\n",
              "  "
            ],
            "text/plain": [
              "               age          bmi     children       charges\n",
              "count  1091.000000  1091.000000  1091.000000   1091.000000\n",
              "mean     39.817599    32.573483     1.089826  13946.476035\n",
              "std      14.071792     4.982788     1.199081  12834.725537\n",
              "min      18.000000    25.080000     0.000000   1131.506600\n",
              "25%      27.000000    28.600000     0.000000   4889.518150\n",
              "50%      40.000000    31.900000     1.000000   9563.029000\n",
              "75%      52.000000    35.815000     2.000000  17654.442975\n",
              "max      64.000000    53.130000     5.000000  63770.428010"
            ]
          },
          "execution_count": 65,
          "metadata": {},
          "output_type": "execute_result"
        }
      ],
      "source": [
        "# b. Rata-rata & Median Pemegang Asuransi dengan BMI > 25\n",
        "data[data['bmi'] > 25].describe()"
      ]
    },
    {
      "cell_type": "markdown",
      "metadata": {
        "id": "hKl0hFcJyDFm"
      },
      "source": [
        "4. Mean & Median Berdasarkan Jenis Kelamin"
      ]
    },
    {
      "cell_type": "code",
      "execution_count": null,
      "metadata": {
        "colab": {
          "base_uri": "https://localhost:8080/",
          "height": 300
        },
        "id": "2qhcCrtCyWag",
        "outputId": "3f8c2d72-2329-4fa2-a985-25213579242f"
      },
      "outputs": [
        {
          "data": {
            "text/html": [
              "\n",
              "  <div id=\"df-acda1f97-6bfa-4d5e-8d3c-f3455903b5f5\">\n",
              "    <div class=\"colab-df-container\">\n",
              "      <div>\n",
              "<style scoped>\n",
              "    .dataframe tbody tr th:only-of-type {\n",
              "        vertical-align: middle;\n",
              "    }\n",
              "\n",
              "    .dataframe tbody tr th {\n",
              "        vertical-align: top;\n",
              "    }\n",
              "\n",
              "    .dataframe thead th {\n",
              "        text-align: right;\n",
              "    }\n",
              "</style>\n",
              "<table border=\"1\" class=\"dataframe\">\n",
              "  <thead>\n",
              "    <tr style=\"text-align: right;\">\n",
              "      <th></th>\n",
              "      <th>age</th>\n",
              "      <th>bmi</th>\n",
              "      <th>children</th>\n",
              "      <th>charges</th>\n",
              "    </tr>\n",
              "  </thead>\n",
              "  <tbody>\n",
              "    <tr>\n",
              "      <th>count</th>\n",
              "      <td>676.000000</td>\n",
              "      <td>676.000000</td>\n",
              "      <td>676.000000</td>\n",
              "      <td>676.000000</td>\n",
              "    </tr>\n",
              "    <tr>\n",
              "      <th>mean</th>\n",
              "      <td>38.917160</td>\n",
              "      <td>30.943129</td>\n",
              "      <td>1.115385</td>\n",
              "      <td>13956.751178</td>\n",
              "    </tr>\n",
              "    <tr>\n",
              "      <th>std</th>\n",
              "      <td>14.050141</td>\n",
              "      <td>6.140435</td>\n",
              "      <td>1.218986</td>\n",
              "      <td>12971.025915</td>\n",
              "    </tr>\n",
              "    <tr>\n",
              "      <th>min</th>\n",
              "      <td>18.000000</td>\n",
              "      <td>15.960000</td>\n",
              "      <td>0.000000</td>\n",
              "      <td>1121.873900</td>\n",
              "    </tr>\n",
              "    <tr>\n",
              "      <th>25%</th>\n",
              "      <td>26.000000</td>\n",
              "      <td>26.410000</td>\n",
              "      <td>0.000000</td>\n",
              "      <td>4619.134000</td>\n",
              "    </tr>\n",
              "    <tr>\n",
              "      <th>50%</th>\n",
              "      <td>39.000000</td>\n",
              "      <td>30.687500</td>\n",
              "      <td>1.000000</td>\n",
              "      <td>9369.615750</td>\n",
              "    </tr>\n",
              "    <tr>\n",
              "      <th>75%</th>\n",
              "      <td>51.000000</td>\n",
              "      <td>34.992500</td>\n",
              "      <td>2.000000</td>\n",
              "      <td>18989.590250</td>\n",
              "    </tr>\n",
              "    <tr>\n",
              "      <th>max</th>\n",
              "      <td>64.000000</td>\n",
              "      <td>53.130000</td>\n",
              "      <td>5.000000</td>\n",
              "      <td>62592.873090</td>\n",
              "    </tr>\n",
              "  </tbody>\n",
              "</table>\n",
              "</div>\n",
              "      <button class=\"colab-df-convert\" onclick=\"convertToInteractive('df-acda1f97-6bfa-4d5e-8d3c-f3455903b5f5')\"\n",
              "              title=\"Convert this dataframe to an interactive table.\"\n",
              "              style=\"display:none;\">\n",
              "        \n",
              "  <svg xmlns=\"http://www.w3.org/2000/svg\" height=\"24px\"viewBox=\"0 0 24 24\"\n",
              "       width=\"24px\">\n",
              "    <path d=\"M0 0h24v24H0V0z\" fill=\"none\"/>\n",
              "    <path d=\"M18.56 5.44l.94 2.06.94-2.06 2.06-.94-2.06-.94-.94-2.06-.94 2.06-2.06.94zm-11 1L8.5 8.5l.94-2.06 2.06-.94-2.06-.94L8.5 2.5l-.94 2.06-2.06.94zm10 10l.94 2.06.94-2.06 2.06-.94-2.06-.94-.94-2.06-.94 2.06-2.06.94z\"/><path d=\"M17.41 7.96l-1.37-1.37c-.4-.4-.92-.59-1.43-.59-.52 0-1.04.2-1.43.59L10.3 9.45l-7.72 7.72c-.78.78-.78 2.05 0 2.83L4 21.41c.39.39.9.59 1.41.59.51 0 1.02-.2 1.41-.59l7.78-7.78 2.81-2.81c.8-.78.8-2.07 0-2.86zM5.41 20L4 18.59l7.72-7.72 1.47 1.35L5.41 20z\"/>\n",
              "  </svg>\n",
              "      </button>\n",
              "      \n",
              "  <style>\n",
              "    .colab-df-container {\n",
              "      display:flex;\n",
              "      flex-wrap:wrap;\n",
              "      gap: 12px;\n",
              "    }\n",
              "\n",
              "    .colab-df-convert {\n",
              "      background-color: #E8F0FE;\n",
              "      border: none;\n",
              "      border-radius: 50%;\n",
              "      cursor: pointer;\n",
              "      display: none;\n",
              "      fill: #1967D2;\n",
              "      height: 32px;\n",
              "      padding: 0 0 0 0;\n",
              "      width: 32px;\n",
              "    }\n",
              "\n",
              "    .colab-df-convert:hover {\n",
              "      background-color: #E2EBFA;\n",
              "      box-shadow: 0px 1px 2px rgba(60, 64, 67, 0.3), 0px 1px 3px 1px rgba(60, 64, 67, 0.15);\n",
              "      fill: #174EA6;\n",
              "    }\n",
              "\n",
              "    [theme=dark] .colab-df-convert {\n",
              "      background-color: #3B4455;\n",
              "      fill: #D2E3FC;\n",
              "    }\n",
              "\n",
              "    [theme=dark] .colab-df-convert:hover {\n",
              "      background-color: #434B5C;\n",
              "      box-shadow: 0px 1px 3px 1px rgba(0, 0, 0, 0.15);\n",
              "      filter: drop-shadow(0px 1px 2px rgba(0, 0, 0, 0.3));\n",
              "      fill: #FFFFFF;\n",
              "    }\n",
              "  </style>\n",
              "\n",
              "      <script>\n",
              "        const buttonEl =\n",
              "          document.querySelector('#df-acda1f97-6bfa-4d5e-8d3c-f3455903b5f5 button.colab-df-convert');\n",
              "        buttonEl.style.display =\n",
              "          google.colab.kernel.accessAllowed ? 'block' : 'none';\n",
              "\n",
              "        async function convertToInteractive(key) {\n",
              "          const element = document.querySelector('#df-acda1f97-6bfa-4d5e-8d3c-f3455903b5f5');\n",
              "          const dataTable =\n",
              "            await google.colab.kernel.invokeFunction('convertToInteractive',\n",
              "                                                     [key], {});\n",
              "          if (!dataTable) return;\n",
              "\n",
              "          const docLinkHtml = 'Like what you see? Visit the ' +\n",
              "            '<a target=\"_blank\" href=https://colab.research.google.com/notebooks/data_table.ipynb>data table notebook</a>'\n",
              "            + ' to learn more about interactive tables.';\n",
              "          element.innerHTML = '';\n",
              "          dataTable['output_type'] = 'display_data';\n",
              "          await google.colab.output.renderOutput(dataTable, element);\n",
              "          const docLink = document.createElement('div');\n",
              "          docLink.innerHTML = docLinkHtml;\n",
              "          element.appendChild(docLink);\n",
              "        }\n",
              "      </script>\n",
              "    </div>\n",
              "  </div>\n",
              "  "
            ],
            "text/plain": [
              "              age         bmi    children       charges\n",
              "count  676.000000  676.000000  676.000000    676.000000\n",
              "mean    38.917160   30.943129    1.115385  13956.751178\n",
              "std     14.050141    6.140435    1.218986  12971.025915\n",
              "min     18.000000   15.960000    0.000000   1121.873900\n",
              "25%     26.000000   26.410000    0.000000   4619.134000\n",
              "50%     39.000000   30.687500    1.000000   9369.615750\n",
              "75%     51.000000   34.992500    2.000000  18989.590250\n",
              "max     64.000000   53.130000    5.000000  62592.873090"
            ]
          },
          "execution_count": 66,
          "metadata": {},
          "output_type": "execute_result"
        }
      ],
      "source": [
        "# Rata-rata & Median Pemegang Asuransi Pria\n",
        "data[data['sex'] == 'male'].describe()"
      ]
    },
    {
      "cell_type": "code",
      "execution_count": null,
      "metadata": {
        "colab": {
          "base_uri": "https://localhost:8080/",
          "height": 300
        },
        "id": "xR0iWpDdynYL",
        "outputId": "0b841009-dc6d-420d-93c3-96f20883ef75"
      },
      "outputs": [
        {
          "data": {
            "text/html": [
              "\n",
              "  <div id=\"df-bb5d92e7-7780-4719-9fcc-b55d69b3463b\">\n",
              "    <div class=\"colab-df-container\">\n",
              "      <div>\n",
              "<style scoped>\n",
              "    .dataframe tbody tr th:only-of-type {\n",
              "        vertical-align: middle;\n",
              "    }\n",
              "\n",
              "    .dataframe tbody tr th {\n",
              "        vertical-align: top;\n",
              "    }\n",
              "\n",
              "    .dataframe thead th {\n",
              "        text-align: right;\n",
              "    }\n",
              "</style>\n",
              "<table border=\"1\" class=\"dataframe\">\n",
              "  <thead>\n",
              "    <tr style=\"text-align: right;\">\n",
              "      <th></th>\n",
              "      <th>age</th>\n",
              "      <th>bmi</th>\n",
              "      <th>children</th>\n",
              "      <th>charges</th>\n",
              "    </tr>\n",
              "  </thead>\n",
              "  <tbody>\n",
              "    <tr>\n",
              "      <th>count</th>\n",
              "      <td>662.000000</td>\n",
              "      <td>662.000000</td>\n",
              "      <td>662.000000</td>\n",
              "      <td>662.000000</td>\n",
              "    </tr>\n",
              "    <tr>\n",
              "      <th>mean</th>\n",
              "      <td>39.503021</td>\n",
              "      <td>30.377749</td>\n",
              "      <td>1.074018</td>\n",
              "      <td>12569.578844</td>\n",
              "    </tr>\n",
              "    <tr>\n",
              "      <th>std</th>\n",
              "      <td>14.054223</td>\n",
              "      <td>6.046023</td>\n",
              "      <td>1.192115</td>\n",
              "      <td>11128.703801</td>\n",
              "    </tr>\n",
              "    <tr>\n",
              "      <th>min</th>\n",
              "      <td>18.000000</td>\n",
              "      <td>16.815000</td>\n",
              "      <td>0.000000</td>\n",
              "      <td>1607.510100</td>\n",
              "    </tr>\n",
              "    <tr>\n",
              "      <th>25%</th>\n",
              "      <td>27.000000</td>\n",
              "      <td>26.125000</td>\n",
              "      <td>0.000000</td>\n",
              "      <td>4885.158700</td>\n",
              "    </tr>\n",
              "    <tr>\n",
              "      <th>50%</th>\n",
              "      <td>40.000000</td>\n",
              "      <td>30.107500</td>\n",
              "      <td>1.000000</td>\n",
              "      <td>9412.962500</td>\n",
              "    </tr>\n",
              "    <tr>\n",
              "      <th>75%</th>\n",
              "      <td>51.750000</td>\n",
              "      <td>34.313750</td>\n",
              "      <td>2.000000</td>\n",
              "      <td>14454.691825</td>\n",
              "    </tr>\n",
              "    <tr>\n",
              "      <th>max</th>\n",
              "      <td>64.000000</td>\n",
              "      <td>48.070000</td>\n",
              "      <td>5.000000</td>\n",
              "      <td>63770.428010</td>\n",
              "    </tr>\n",
              "  </tbody>\n",
              "</table>\n",
              "</div>\n",
              "      <button class=\"colab-df-convert\" onclick=\"convertToInteractive('df-bb5d92e7-7780-4719-9fcc-b55d69b3463b')\"\n",
              "              title=\"Convert this dataframe to an interactive table.\"\n",
              "              style=\"display:none;\">\n",
              "        \n",
              "  <svg xmlns=\"http://www.w3.org/2000/svg\" height=\"24px\"viewBox=\"0 0 24 24\"\n",
              "       width=\"24px\">\n",
              "    <path d=\"M0 0h24v24H0V0z\" fill=\"none\"/>\n",
              "    <path d=\"M18.56 5.44l.94 2.06.94-2.06 2.06-.94-2.06-.94-.94-2.06-.94 2.06-2.06.94zm-11 1L8.5 8.5l.94-2.06 2.06-.94-2.06-.94L8.5 2.5l-.94 2.06-2.06.94zm10 10l.94 2.06.94-2.06 2.06-.94-2.06-.94-.94-2.06-.94 2.06-2.06.94z\"/><path d=\"M17.41 7.96l-1.37-1.37c-.4-.4-.92-.59-1.43-.59-.52 0-1.04.2-1.43.59L10.3 9.45l-7.72 7.72c-.78.78-.78 2.05 0 2.83L4 21.41c.39.39.9.59 1.41.59.51 0 1.02-.2 1.41-.59l7.78-7.78 2.81-2.81c.8-.78.8-2.07 0-2.86zM5.41 20L4 18.59l7.72-7.72 1.47 1.35L5.41 20z\"/>\n",
              "  </svg>\n",
              "      </button>\n",
              "      \n",
              "  <style>\n",
              "    .colab-df-container {\n",
              "      display:flex;\n",
              "      flex-wrap:wrap;\n",
              "      gap: 12px;\n",
              "    }\n",
              "\n",
              "    .colab-df-convert {\n",
              "      background-color: #E8F0FE;\n",
              "      border: none;\n",
              "      border-radius: 50%;\n",
              "      cursor: pointer;\n",
              "      display: none;\n",
              "      fill: #1967D2;\n",
              "      height: 32px;\n",
              "      padding: 0 0 0 0;\n",
              "      width: 32px;\n",
              "    }\n",
              "\n",
              "    .colab-df-convert:hover {\n",
              "      background-color: #E2EBFA;\n",
              "      box-shadow: 0px 1px 2px rgba(60, 64, 67, 0.3), 0px 1px 3px 1px rgba(60, 64, 67, 0.15);\n",
              "      fill: #174EA6;\n",
              "    }\n",
              "\n",
              "    [theme=dark] .colab-df-convert {\n",
              "      background-color: #3B4455;\n",
              "      fill: #D2E3FC;\n",
              "    }\n",
              "\n",
              "    [theme=dark] .colab-df-convert:hover {\n",
              "      background-color: #434B5C;\n",
              "      box-shadow: 0px 1px 3px 1px rgba(0, 0, 0, 0.15);\n",
              "      filter: drop-shadow(0px 1px 2px rgba(0, 0, 0, 0.3));\n",
              "      fill: #FFFFFF;\n",
              "    }\n",
              "  </style>\n",
              "\n",
              "      <script>\n",
              "        const buttonEl =\n",
              "          document.querySelector('#df-bb5d92e7-7780-4719-9fcc-b55d69b3463b button.colab-df-convert');\n",
              "        buttonEl.style.display =\n",
              "          google.colab.kernel.accessAllowed ? 'block' : 'none';\n",
              "\n",
              "        async function convertToInteractive(key) {\n",
              "          const element = document.querySelector('#df-bb5d92e7-7780-4719-9fcc-b55d69b3463b');\n",
              "          const dataTable =\n",
              "            await google.colab.kernel.invokeFunction('convertToInteractive',\n",
              "                                                     [key], {});\n",
              "          if (!dataTable) return;\n",
              "\n",
              "          const docLinkHtml = 'Like what you see? Visit the ' +\n",
              "            '<a target=\"_blank\" href=https://colab.research.google.com/notebooks/data_table.ipynb>data table notebook</a>'\n",
              "            + ' to learn more about interactive tables.';\n",
              "          element.innerHTML = '';\n",
              "          dataTable['output_type'] = 'display_data';\n",
              "          await google.colab.output.renderOutput(dataTable, element);\n",
              "          const docLink = document.createElement('div');\n",
              "          docLink.innerHTML = docLinkHtml;\n",
              "          element.appendChild(docLink);\n",
              "        }\n",
              "      </script>\n",
              "    </div>\n",
              "  </div>\n",
              "  "
            ],
            "text/plain": [
              "              age         bmi    children       charges\n",
              "count  662.000000  662.000000  662.000000    662.000000\n",
              "mean    39.503021   30.377749    1.074018  12569.578844\n",
              "std     14.054223    6.046023    1.192115  11128.703801\n",
              "min     18.000000   16.815000    0.000000   1607.510100\n",
              "25%     27.000000   26.125000    0.000000   4885.158700\n",
              "50%     40.000000   30.107500    1.000000   9412.962500\n",
              "75%     51.750000   34.313750    2.000000  14454.691825\n",
              "max     64.000000   48.070000    5.000000  63770.428010"
            ]
          },
          "execution_count": 67,
          "metadata": {},
          "output_type": "execute_result"
        }
      ],
      "source": [
        "# Rata-rata & Median Pemegang Asuransi Perempuan\n",
        "data[data['sex'] == 'female'].describe()"
      ]
    },
    {
      "cell_type": "markdown",
      "metadata": {
        "id": "xL8vSyF1zON0"
      },
      "source": [
        "5. Rata-rata & Median Perokok Berdasarkan BMI"
      ]
    },
    {
      "cell_type": "code",
      "execution_count": null,
      "metadata": {
        "colab": {
          "base_uri": "https://localhost:8080/",
          "height": 300
        },
        "id": "HL8AoAwKy0aT",
        "outputId": "2bb4723f-64e8-4bf0-edda-c6bd620f027c"
      },
      "outputs": [
        {
          "data": {
            "text/html": [
              "\n",
              "  <div id=\"df-1e1ee073-b2ee-4205-9bbc-d1f939cf4b0a\">\n",
              "    <div class=\"colab-df-container\">\n",
              "      <div>\n",
              "<style scoped>\n",
              "    .dataframe tbody tr th:only-of-type {\n",
              "        vertical-align: middle;\n",
              "    }\n",
              "\n",
              "    .dataframe tbody tr th {\n",
              "        vertical-align: top;\n",
              "    }\n",
              "\n",
              "    .dataframe thead th {\n",
              "        text-align: right;\n",
              "    }\n",
              "</style>\n",
              "<table border=\"1\" class=\"dataframe\">\n",
              "  <thead>\n",
              "    <tr style=\"text-align: right;\">\n",
              "      <th></th>\n",
              "      <th>age</th>\n",
              "      <th>bmi</th>\n",
              "      <th>children</th>\n",
              "      <th>charges</th>\n",
              "    </tr>\n",
              "  </thead>\n",
              "  <tbody>\n",
              "    <tr>\n",
              "      <th>count</th>\n",
              "      <td>55.000000</td>\n",
              "      <td>55.000000</td>\n",
              "      <td>55.000000</td>\n",
              "      <td>55.000000</td>\n",
              "    </tr>\n",
              "    <tr>\n",
              "      <th>mean</th>\n",
              "      <td>37.309091</td>\n",
              "      <td>22.277182</td>\n",
              "      <td>1.236364</td>\n",
              "      <td>19839.278309</td>\n",
              "    </tr>\n",
              "    <tr>\n",
              "      <th>std</th>\n",
              "      <td>12.480908</td>\n",
              "      <td>2.182447</td>\n",
              "      <td>1.261446</td>\n",
              "      <td>4583.245438</td>\n",
              "    </tr>\n",
              "    <tr>\n",
              "      <th>min</th>\n",
              "      <td>18.000000</td>\n",
              "      <td>17.195000</td>\n",
              "      <td>0.000000</td>\n",
              "      <td>12829.455100</td>\n",
              "    </tr>\n",
              "    <tr>\n",
              "      <th>25%</th>\n",
              "      <td>27.500000</td>\n",
              "      <td>20.710000</td>\n",
              "      <td>0.000000</td>\n",
              "      <td>16499.137025</td>\n",
              "    </tr>\n",
              "    <tr>\n",
              "      <th>50%</th>\n",
              "      <td>38.000000</td>\n",
              "      <td>22.895000</td>\n",
              "      <td>1.000000</td>\n",
              "      <td>19361.998800</td>\n",
              "    </tr>\n",
              "    <tr>\n",
              "      <th>75%</th>\n",
              "      <td>45.500000</td>\n",
              "      <td>24.130000</td>\n",
              "      <td>2.000000</td>\n",
              "      <td>22049.467450</td>\n",
              "    </tr>\n",
              "    <tr>\n",
              "      <th>max</th>\n",
              "      <td>64.000000</td>\n",
              "      <td>24.890000</td>\n",
              "      <td>5.000000</td>\n",
              "      <td>35069.374520</td>\n",
              "    </tr>\n",
              "  </tbody>\n",
              "</table>\n",
              "</div>\n",
              "      <button class=\"colab-df-convert\" onclick=\"convertToInteractive('df-1e1ee073-b2ee-4205-9bbc-d1f939cf4b0a')\"\n",
              "              title=\"Convert this dataframe to an interactive table.\"\n",
              "              style=\"display:none;\">\n",
              "        \n",
              "  <svg xmlns=\"http://www.w3.org/2000/svg\" height=\"24px\"viewBox=\"0 0 24 24\"\n",
              "       width=\"24px\">\n",
              "    <path d=\"M0 0h24v24H0V0z\" fill=\"none\"/>\n",
              "    <path d=\"M18.56 5.44l.94 2.06.94-2.06 2.06-.94-2.06-.94-.94-2.06-.94 2.06-2.06.94zm-11 1L8.5 8.5l.94-2.06 2.06-.94-2.06-.94L8.5 2.5l-.94 2.06-2.06.94zm10 10l.94 2.06.94-2.06 2.06-.94-2.06-.94-.94-2.06-.94 2.06-2.06.94z\"/><path d=\"M17.41 7.96l-1.37-1.37c-.4-.4-.92-.59-1.43-.59-.52 0-1.04.2-1.43.59L10.3 9.45l-7.72 7.72c-.78.78-.78 2.05 0 2.83L4 21.41c.39.39.9.59 1.41.59.51 0 1.02-.2 1.41-.59l7.78-7.78 2.81-2.81c.8-.78.8-2.07 0-2.86zM5.41 20L4 18.59l7.72-7.72 1.47 1.35L5.41 20z\"/>\n",
              "  </svg>\n",
              "      </button>\n",
              "      \n",
              "  <style>\n",
              "    .colab-df-container {\n",
              "      display:flex;\n",
              "      flex-wrap:wrap;\n",
              "      gap: 12px;\n",
              "    }\n",
              "\n",
              "    .colab-df-convert {\n",
              "      background-color: #E8F0FE;\n",
              "      border: none;\n",
              "      border-radius: 50%;\n",
              "      cursor: pointer;\n",
              "      display: none;\n",
              "      fill: #1967D2;\n",
              "      height: 32px;\n",
              "      padding: 0 0 0 0;\n",
              "      width: 32px;\n",
              "    }\n",
              "\n",
              "    .colab-df-convert:hover {\n",
              "      background-color: #E2EBFA;\n",
              "      box-shadow: 0px 1px 2px rgba(60, 64, 67, 0.3), 0px 1px 3px 1px rgba(60, 64, 67, 0.15);\n",
              "      fill: #174EA6;\n",
              "    }\n",
              "\n",
              "    [theme=dark] .colab-df-convert {\n",
              "      background-color: #3B4455;\n",
              "      fill: #D2E3FC;\n",
              "    }\n",
              "\n",
              "    [theme=dark] .colab-df-convert:hover {\n",
              "      background-color: #434B5C;\n",
              "      box-shadow: 0px 1px 3px 1px rgba(0, 0, 0, 0.15);\n",
              "      filter: drop-shadow(0px 1px 2px rgba(0, 0, 0, 0.3));\n",
              "      fill: #FFFFFF;\n",
              "    }\n",
              "  </style>\n",
              "\n",
              "      <script>\n",
              "        const buttonEl =\n",
              "          document.querySelector('#df-1e1ee073-b2ee-4205-9bbc-d1f939cf4b0a button.colab-df-convert');\n",
              "        buttonEl.style.display =\n",
              "          google.colab.kernel.accessAllowed ? 'block' : 'none';\n",
              "\n",
              "        async function convertToInteractive(key) {\n",
              "          const element = document.querySelector('#df-1e1ee073-b2ee-4205-9bbc-d1f939cf4b0a');\n",
              "          const dataTable =\n",
              "            await google.colab.kernel.invokeFunction('convertToInteractive',\n",
              "                                                     [key], {});\n",
              "          if (!dataTable) return;\n",
              "\n",
              "          const docLinkHtml = 'Like what you see? Visit the ' +\n",
              "            '<a target=\"_blank\" href=https://colab.research.google.com/notebooks/data_table.ipynb>data table notebook</a>'\n",
              "            + ' to learn more about interactive tables.';\n",
              "          element.innerHTML = '';\n",
              "          dataTable['output_type'] = 'display_data';\n",
              "          await google.colab.output.renderOutput(dataTable, element);\n",
              "          const docLink = document.createElement('div');\n",
              "          docLink.innerHTML = docLinkHtml;\n",
              "          element.appendChild(docLink);\n",
              "        }\n",
              "      </script>\n",
              "    </div>\n",
              "  </div>\n",
              "  "
            ],
            "text/plain": [
              "             age        bmi   children       charges\n",
              "count  55.000000  55.000000  55.000000     55.000000\n",
              "mean   37.309091  22.277182   1.236364  19839.278309\n",
              "std    12.480908   2.182447   1.261446   4583.245438\n",
              "min    18.000000  17.195000   0.000000  12829.455100\n",
              "25%    27.500000  20.710000   0.000000  16499.137025\n",
              "50%    38.000000  22.895000   1.000000  19361.998800\n",
              "75%    45.500000  24.130000   2.000000  22049.467450\n",
              "max    64.000000  24.890000   5.000000  35069.374520"
            ]
          },
          "execution_count": 68,
          "metadata": {},
          "output_type": "execute_result"
        }
      ],
      "source": [
        "# Rata-rata & Median Pemegang Asuransi Perokok dengan BMI < 25\n",
        "data[(data['smoker'] == 'yes') & \n",
        "               (data['bmi'] < 25)].describe()"
      ]
    },
    {
      "cell_type": "code",
      "execution_count": null,
      "metadata": {
        "colab": {
          "base_uri": "https://localhost:8080/",
          "height": 300
        },
        "id": "YppVQ91ZzeiV",
        "outputId": "cf829814-05a9-4190-c60e-ef59c1502884"
      },
      "outputs": [
        {
          "data": {
            "text/html": [
              "\n",
              "  <div id=\"df-dbcdc477-75ee-4865-8dde-71b07464b830\">\n",
              "    <div class=\"colab-df-container\">\n",
              "      <div>\n",
              "<style scoped>\n",
              "    .dataframe tbody tr th:only-of-type {\n",
              "        vertical-align: middle;\n",
              "    }\n",
              "\n",
              "    .dataframe tbody tr th {\n",
              "        vertical-align: top;\n",
              "    }\n",
              "\n",
              "    .dataframe thead th {\n",
              "        text-align: right;\n",
              "    }\n",
              "</style>\n",
              "<table border=\"1\" class=\"dataframe\">\n",
              "  <thead>\n",
              "    <tr style=\"text-align: right;\">\n",
              "      <th></th>\n",
              "      <th>age</th>\n",
              "      <th>bmi</th>\n",
              "      <th>children</th>\n",
              "      <th>charges</th>\n",
              "    </tr>\n",
              "  </thead>\n",
              "  <tbody>\n",
              "    <tr>\n",
              "      <th>count</th>\n",
              "      <td>219.000000</td>\n",
              "      <td>219.000000</td>\n",
              "      <td>219.000000</td>\n",
              "      <td>219.000000</td>\n",
              "    </tr>\n",
              "    <tr>\n",
              "      <th>mean</th>\n",
              "      <td>38.817352</td>\n",
              "      <td>32.825890</td>\n",
              "      <td>1.082192</td>\n",
              "      <td>35116.909657</td>\n",
              "    </tr>\n",
              "    <tr>\n",
              "      <th>std</th>\n",
              "      <td>14.273009</td>\n",
              "      <td>5.136105</td>\n",
              "      <td>1.130317</td>\n",
              "      <td>10702.561195</td>\n",
              "    </tr>\n",
              "    <tr>\n",
              "      <th>min</th>\n",
              "      <td>18.000000</td>\n",
              "      <td>25.100000</td>\n",
              "      <td>0.000000</td>\n",
              "      <td>15518.180250</td>\n",
              "    </tr>\n",
              "    <tr>\n",
              "      <th>25%</th>\n",
              "      <td>25.500000</td>\n",
              "      <td>28.345000</td>\n",
              "      <td>0.000000</td>\n",
              "      <td>24601.558775</td>\n",
              "    </tr>\n",
              "    <tr>\n",
              "      <th>50%</th>\n",
              "      <td>38.000000</td>\n",
              "      <td>32.015000</td>\n",
              "      <td>1.000000</td>\n",
              "      <td>37270.151200</td>\n",
              "    </tr>\n",
              "    <tr>\n",
              "      <th>75%</th>\n",
              "      <td>50.000000</td>\n",
              "      <td>36.080000</td>\n",
              "      <td>2.000000</td>\n",
              "      <td>42808.670100</td>\n",
              "    </tr>\n",
              "    <tr>\n",
              "      <th>max</th>\n",
              "      <td>64.000000</td>\n",
              "      <td>52.580000</td>\n",
              "      <td>4.000000</td>\n",
              "      <td>63770.428010</td>\n",
              "    </tr>\n",
              "  </tbody>\n",
              "</table>\n",
              "</div>\n",
              "      <button class=\"colab-df-convert\" onclick=\"convertToInteractive('df-dbcdc477-75ee-4865-8dde-71b07464b830')\"\n",
              "              title=\"Convert this dataframe to an interactive table.\"\n",
              "              style=\"display:none;\">\n",
              "        \n",
              "  <svg xmlns=\"http://www.w3.org/2000/svg\" height=\"24px\"viewBox=\"0 0 24 24\"\n",
              "       width=\"24px\">\n",
              "    <path d=\"M0 0h24v24H0V0z\" fill=\"none\"/>\n",
              "    <path d=\"M18.56 5.44l.94 2.06.94-2.06 2.06-.94-2.06-.94-.94-2.06-.94 2.06-2.06.94zm-11 1L8.5 8.5l.94-2.06 2.06-.94-2.06-.94L8.5 2.5l-.94 2.06-2.06.94zm10 10l.94 2.06.94-2.06 2.06-.94-2.06-.94-.94-2.06-.94 2.06-2.06.94z\"/><path d=\"M17.41 7.96l-1.37-1.37c-.4-.4-.92-.59-1.43-.59-.52 0-1.04.2-1.43.59L10.3 9.45l-7.72 7.72c-.78.78-.78 2.05 0 2.83L4 21.41c.39.39.9.59 1.41.59.51 0 1.02-.2 1.41-.59l7.78-7.78 2.81-2.81c.8-.78.8-2.07 0-2.86zM5.41 20L4 18.59l7.72-7.72 1.47 1.35L5.41 20z\"/>\n",
              "  </svg>\n",
              "      </button>\n",
              "      \n",
              "  <style>\n",
              "    .colab-df-container {\n",
              "      display:flex;\n",
              "      flex-wrap:wrap;\n",
              "      gap: 12px;\n",
              "    }\n",
              "\n",
              "    .colab-df-convert {\n",
              "      background-color: #E8F0FE;\n",
              "      border: none;\n",
              "      border-radius: 50%;\n",
              "      cursor: pointer;\n",
              "      display: none;\n",
              "      fill: #1967D2;\n",
              "      height: 32px;\n",
              "      padding: 0 0 0 0;\n",
              "      width: 32px;\n",
              "    }\n",
              "\n",
              "    .colab-df-convert:hover {\n",
              "      background-color: #E2EBFA;\n",
              "      box-shadow: 0px 1px 2px rgba(60, 64, 67, 0.3), 0px 1px 3px 1px rgba(60, 64, 67, 0.15);\n",
              "      fill: #174EA6;\n",
              "    }\n",
              "\n",
              "    [theme=dark] .colab-df-convert {\n",
              "      background-color: #3B4455;\n",
              "      fill: #D2E3FC;\n",
              "    }\n",
              "\n",
              "    [theme=dark] .colab-df-convert:hover {\n",
              "      background-color: #434B5C;\n",
              "      box-shadow: 0px 1px 3px 1px rgba(0, 0, 0, 0.15);\n",
              "      filter: drop-shadow(0px 1px 2px rgba(0, 0, 0, 0.3));\n",
              "      fill: #FFFFFF;\n",
              "    }\n",
              "  </style>\n",
              "\n",
              "      <script>\n",
              "        const buttonEl =\n",
              "          document.querySelector('#df-dbcdc477-75ee-4865-8dde-71b07464b830 button.colab-df-convert');\n",
              "        buttonEl.style.display =\n",
              "          google.colab.kernel.accessAllowed ? 'block' : 'none';\n",
              "\n",
              "        async function convertToInteractive(key) {\n",
              "          const element = document.querySelector('#df-dbcdc477-75ee-4865-8dde-71b07464b830');\n",
              "          const dataTable =\n",
              "            await google.colab.kernel.invokeFunction('convertToInteractive',\n",
              "                                                     [key], {});\n",
              "          if (!dataTable) return;\n",
              "\n",
              "          const docLinkHtml = 'Like what you see? Visit the ' +\n",
              "            '<a target=\"_blank\" href=https://colab.research.google.com/notebooks/data_table.ipynb>data table notebook</a>'\n",
              "            + ' to learn more about interactive tables.';\n",
              "          element.innerHTML = '';\n",
              "          dataTable['output_type'] = 'display_data';\n",
              "          await google.colab.output.renderOutput(dataTable, element);\n",
              "          const docLink = document.createElement('div');\n",
              "          docLink.innerHTML = docLinkHtml;\n",
              "          element.appendChild(docLink);\n",
              "        }\n",
              "      </script>\n",
              "    </div>\n",
              "  </div>\n",
              "  "
            ],
            "text/plain": [
              "              age         bmi    children       charges\n",
              "count  219.000000  219.000000  219.000000    219.000000\n",
              "mean    38.817352   32.825890    1.082192  35116.909657\n",
              "std     14.273009    5.136105    1.130317  10702.561195\n",
              "min     18.000000   25.100000    0.000000  15518.180250\n",
              "25%     25.500000   28.345000    0.000000  24601.558775\n",
              "50%     38.000000   32.015000    1.000000  37270.151200\n",
              "75%     50.000000   36.080000    2.000000  42808.670100\n",
              "max     64.000000   52.580000    4.000000  63770.428010"
            ]
          },
          "execution_count": 69,
          "metadata": {},
          "output_type": "execute_result"
        }
      ],
      "source": [
        "# Rata-rata & Median Pemegang Asuransi Perokok dengan BMI > 25\n",
        "data[(data['smoker'] == 'yes') & \n",
        "               (data['bmi'] > 25)].describe()"
      ]
    },
    {
      "cell_type": "markdown",
      "metadata": {
        "id": "_i0wmd0-zx3H"
      },
      "source": [
        "6. Rata-rata & Median Perokok Berdasarkan Jenis Kelamin"
      ]
    },
    {
      "cell_type": "code",
      "execution_count": null,
      "metadata": {
        "colab": {
          "base_uri": "https://localhost:8080/",
          "height": 300
        },
        "id": "ImU08q8dzuSY",
        "outputId": "53bc14ea-e3f4-4926-ed97-121f3acdc2aa"
      },
      "outputs": [
        {
          "data": {
            "text/html": [
              "\n",
              "  <div id=\"df-57f2579b-bcc6-40fe-bd0f-89f4ae799d35\">\n",
              "    <div class=\"colab-df-container\">\n",
              "      <div>\n",
              "<style scoped>\n",
              "    .dataframe tbody tr th:only-of-type {\n",
              "        vertical-align: middle;\n",
              "    }\n",
              "\n",
              "    .dataframe tbody tr th {\n",
              "        vertical-align: top;\n",
              "    }\n",
              "\n",
              "    .dataframe thead th {\n",
              "        text-align: right;\n",
              "    }\n",
              "</style>\n",
              "<table border=\"1\" class=\"dataframe\">\n",
              "  <thead>\n",
              "    <tr style=\"text-align: right;\">\n",
              "      <th></th>\n",
              "      <th>age</th>\n",
              "      <th>bmi</th>\n",
              "      <th>children</th>\n",
              "      <th>charges</th>\n",
              "    </tr>\n",
              "  </thead>\n",
              "  <tbody>\n",
              "    <tr>\n",
              "      <th>count</th>\n",
              "      <td>159.000000</td>\n",
              "      <td>159.000000</td>\n",
              "      <td>159.000000</td>\n",
              "      <td>159.000000</td>\n",
              "    </tr>\n",
              "    <tr>\n",
              "      <th>mean</th>\n",
              "      <td>38.446541</td>\n",
              "      <td>31.504182</td>\n",
              "      <td>1.188679</td>\n",
              "      <td>33042.005975</td>\n",
              "    </tr>\n",
              "    <tr>\n",
              "      <th>std</th>\n",
              "      <td>13.751247</td>\n",
              "      <td>5.952028</td>\n",
              "      <td>1.170144</td>\n",
              "      <td>11202.670862</td>\n",
              "    </tr>\n",
              "    <tr>\n",
              "      <th>min</th>\n",
              "      <td>18.000000</td>\n",
              "      <td>17.290000</td>\n",
              "      <td>0.000000</td>\n",
              "      <td>12829.455100</td>\n",
              "    </tr>\n",
              "    <tr>\n",
              "      <th>25%</th>\n",
              "      <td>27.000000</td>\n",
              "      <td>27.360000</td>\n",
              "      <td>0.000000</td>\n",
              "      <td>21241.526875</td>\n",
              "    </tr>\n",
              "    <tr>\n",
              "      <th>50%</th>\n",
              "      <td>38.000000</td>\n",
              "      <td>31.130000</td>\n",
              "      <td>1.000000</td>\n",
              "      <td>36085.219000</td>\n",
              "    </tr>\n",
              "    <tr>\n",
              "      <th>75%</th>\n",
              "      <td>49.500000</td>\n",
              "      <td>35.565000</td>\n",
              "      <td>2.000000</td>\n",
              "      <td>41797.589050</td>\n",
              "    </tr>\n",
              "    <tr>\n",
              "      <th>max</th>\n",
              "      <td>64.000000</td>\n",
              "      <td>52.580000</td>\n",
              "      <td>4.000000</td>\n",
              "      <td>62592.873090</td>\n",
              "    </tr>\n",
              "  </tbody>\n",
              "</table>\n",
              "</div>\n",
              "      <button class=\"colab-df-convert\" onclick=\"convertToInteractive('df-57f2579b-bcc6-40fe-bd0f-89f4ae799d35')\"\n",
              "              title=\"Convert this dataframe to an interactive table.\"\n",
              "              style=\"display:none;\">\n",
              "        \n",
              "  <svg xmlns=\"http://www.w3.org/2000/svg\" height=\"24px\"viewBox=\"0 0 24 24\"\n",
              "       width=\"24px\">\n",
              "    <path d=\"M0 0h24v24H0V0z\" fill=\"none\"/>\n",
              "    <path d=\"M18.56 5.44l.94 2.06.94-2.06 2.06-.94-2.06-.94-.94-2.06-.94 2.06-2.06.94zm-11 1L8.5 8.5l.94-2.06 2.06-.94-2.06-.94L8.5 2.5l-.94 2.06-2.06.94zm10 10l.94 2.06.94-2.06 2.06-.94-2.06-.94-.94-2.06-.94 2.06-2.06.94z\"/><path d=\"M17.41 7.96l-1.37-1.37c-.4-.4-.92-.59-1.43-.59-.52 0-1.04.2-1.43.59L10.3 9.45l-7.72 7.72c-.78.78-.78 2.05 0 2.83L4 21.41c.39.39.9.59 1.41.59.51 0 1.02-.2 1.41-.59l7.78-7.78 2.81-2.81c.8-.78.8-2.07 0-2.86zM5.41 20L4 18.59l7.72-7.72 1.47 1.35L5.41 20z\"/>\n",
              "  </svg>\n",
              "      </button>\n",
              "      \n",
              "  <style>\n",
              "    .colab-df-container {\n",
              "      display:flex;\n",
              "      flex-wrap:wrap;\n",
              "      gap: 12px;\n",
              "    }\n",
              "\n",
              "    .colab-df-convert {\n",
              "      background-color: #E8F0FE;\n",
              "      border: none;\n",
              "      border-radius: 50%;\n",
              "      cursor: pointer;\n",
              "      display: none;\n",
              "      fill: #1967D2;\n",
              "      height: 32px;\n",
              "      padding: 0 0 0 0;\n",
              "      width: 32px;\n",
              "    }\n",
              "\n",
              "    .colab-df-convert:hover {\n",
              "      background-color: #E2EBFA;\n",
              "      box-shadow: 0px 1px 2px rgba(60, 64, 67, 0.3), 0px 1px 3px 1px rgba(60, 64, 67, 0.15);\n",
              "      fill: #174EA6;\n",
              "    }\n",
              "\n",
              "    [theme=dark] .colab-df-convert {\n",
              "      background-color: #3B4455;\n",
              "      fill: #D2E3FC;\n",
              "    }\n",
              "\n",
              "    [theme=dark] .colab-df-convert:hover {\n",
              "      background-color: #434B5C;\n",
              "      box-shadow: 0px 1px 3px 1px rgba(0, 0, 0, 0.15);\n",
              "      filter: drop-shadow(0px 1px 2px rgba(0, 0, 0, 0.3));\n",
              "      fill: #FFFFFF;\n",
              "    }\n",
              "  </style>\n",
              "\n",
              "      <script>\n",
              "        const buttonEl =\n",
              "          document.querySelector('#df-57f2579b-bcc6-40fe-bd0f-89f4ae799d35 button.colab-df-convert');\n",
              "        buttonEl.style.display =\n",
              "          google.colab.kernel.accessAllowed ? 'block' : 'none';\n",
              "\n",
              "        async function convertToInteractive(key) {\n",
              "          const element = document.querySelector('#df-57f2579b-bcc6-40fe-bd0f-89f4ae799d35');\n",
              "          const dataTable =\n",
              "            await google.colab.kernel.invokeFunction('convertToInteractive',\n",
              "                                                     [key], {});\n",
              "          if (!dataTable) return;\n",
              "\n",
              "          const docLinkHtml = 'Like what you see? Visit the ' +\n",
              "            '<a target=\"_blank\" href=https://colab.research.google.com/notebooks/data_table.ipynb>data table notebook</a>'\n",
              "            + ' to learn more about interactive tables.';\n",
              "          element.innerHTML = '';\n",
              "          dataTable['output_type'] = 'display_data';\n",
              "          await google.colab.output.renderOutput(dataTable, element);\n",
              "          const docLink = document.createElement('div');\n",
              "          docLink.innerHTML = docLinkHtml;\n",
              "          element.appendChild(docLink);\n",
              "        }\n",
              "      </script>\n",
              "    </div>\n",
              "  </div>\n",
              "  "
            ],
            "text/plain": [
              "              age         bmi    children       charges\n",
              "count  159.000000  159.000000  159.000000    159.000000\n",
              "mean    38.446541   31.504182    1.188679  33042.005975\n",
              "std     13.751247    5.952028    1.170144  11202.670862\n",
              "min     18.000000   17.290000    0.000000  12829.455100\n",
              "25%     27.000000   27.360000    0.000000  21241.526875\n",
              "50%     38.000000   31.130000    1.000000  36085.219000\n",
              "75%     49.500000   35.565000    2.000000  41797.589050\n",
              "max     64.000000   52.580000    4.000000  62592.873090"
            ]
          },
          "execution_count": 70,
          "metadata": {},
          "output_type": "execute_result"
        }
      ],
      "source": [
        "# Rata-rata & Median Pemegang Asuransi Pria Perokok\n",
        "data[(data['smoker'] == 'yes') & \n",
        "               (data['sex'] == 'male')].describe()"
      ]
    },
    {
      "cell_type": "code",
      "execution_count": null,
      "metadata": {
        "colab": {
          "base_uri": "https://localhost:8080/",
          "height": 300
        },
        "id": "Xt1XtH-G0H09",
        "outputId": "fd894692-b93c-417e-f567-84bff9db81b7"
      },
      "outputs": [
        {
          "data": {
            "text/html": [
              "\n",
              "  <div id=\"df-710590af-28aa-469a-8b27-b97738dfc276\">\n",
              "    <div class=\"colab-df-container\">\n",
              "      <div>\n",
              "<style scoped>\n",
              "    .dataframe tbody tr th:only-of-type {\n",
              "        vertical-align: middle;\n",
              "    }\n",
              "\n",
              "    .dataframe tbody tr th {\n",
              "        vertical-align: top;\n",
              "    }\n",
              "\n",
              "    .dataframe thead th {\n",
              "        text-align: right;\n",
              "    }\n",
              "</style>\n",
              "<table border=\"1\" class=\"dataframe\">\n",
              "  <thead>\n",
              "    <tr style=\"text-align: right;\">\n",
              "      <th></th>\n",
              "      <th>age</th>\n",
              "      <th>bmi</th>\n",
              "      <th>children</th>\n",
              "      <th>charges</th>\n",
              "    </tr>\n",
              "  </thead>\n",
              "  <tbody>\n",
              "    <tr>\n",
              "      <th>count</th>\n",
              "      <td>115.000000</td>\n",
              "      <td>115.000000</td>\n",
              "      <td>115.000000</td>\n",
              "      <td>115.000000</td>\n",
              "    </tr>\n",
              "    <tr>\n",
              "      <th>mean</th>\n",
              "      <td>38.608696</td>\n",
              "      <td>29.608261</td>\n",
              "      <td>1.008696</td>\n",
              "      <td>30678.996276</td>\n",
              "    </tr>\n",
              "    <tr>\n",
              "      <th>std</th>\n",
              "      <td>14.217419</td>\n",
              "      <td>6.663802</td>\n",
              "      <td>1.135516</td>\n",
              "      <td>11907.536381</td>\n",
              "    </tr>\n",
              "    <tr>\n",
              "      <th>min</th>\n",
              "      <td>18.000000</td>\n",
              "      <td>17.195000</td>\n",
              "      <td>0.000000</td>\n",
              "      <td>13844.506000</td>\n",
              "    </tr>\n",
              "    <tr>\n",
              "      <th>25%</th>\n",
              "      <td>26.500000</td>\n",
              "      <td>24.650000</td>\n",
              "      <td>0.000000</td>\n",
              "      <td>19696.432100</td>\n",
              "    </tr>\n",
              "    <tr>\n",
              "      <th>50%</th>\n",
              "      <td>39.000000</td>\n",
              "      <td>28.380000</td>\n",
              "      <td>1.000000</td>\n",
              "      <td>28950.469200</td>\n",
              "    </tr>\n",
              "    <tr>\n",
              "      <th>75%</th>\n",
              "      <td>48.500000</td>\n",
              "      <td>34.352500</td>\n",
              "      <td>2.000000</td>\n",
              "      <td>40918.314500</td>\n",
              "    </tr>\n",
              "    <tr>\n",
              "      <th>max</th>\n",
              "      <td>64.000000</td>\n",
              "      <td>47.600000</td>\n",
              "      <td>5.000000</td>\n",
              "      <td>63770.428010</td>\n",
              "    </tr>\n",
              "  </tbody>\n",
              "</table>\n",
              "</div>\n",
              "      <button class=\"colab-df-convert\" onclick=\"convertToInteractive('df-710590af-28aa-469a-8b27-b97738dfc276')\"\n",
              "              title=\"Convert this dataframe to an interactive table.\"\n",
              "              style=\"display:none;\">\n",
              "        \n",
              "  <svg xmlns=\"http://www.w3.org/2000/svg\" height=\"24px\"viewBox=\"0 0 24 24\"\n",
              "       width=\"24px\">\n",
              "    <path d=\"M0 0h24v24H0V0z\" fill=\"none\"/>\n",
              "    <path d=\"M18.56 5.44l.94 2.06.94-2.06 2.06-.94-2.06-.94-.94-2.06-.94 2.06-2.06.94zm-11 1L8.5 8.5l.94-2.06 2.06-.94-2.06-.94L8.5 2.5l-.94 2.06-2.06.94zm10 10l.94 2.06.94-2.06 2.06-.94-2.06-.94-.94-2.06-.94 2.06-2.06.94z\"/><path d=\"M17.41 7.96l-1.37-1.37c-.4-.4-.92-.59-1.43-.59-.52 0-1.04.2-1.43.59L10.3 9.45l-7.72 7.72c-.78.78-.78 2.05 0 2.83L4 21.41c.39.39.9.59 1.41.59.51 0 1.02-.2 1.41-.59l7.78-7.78 2.81-2.81c.8-.78.8-2.07 0-2.86zM5.41 20L4 18.59l7.72-7.72 1.47 1.35L5.41 20z\"/>\n",
              "  </svg>\n",
              "      </button>\n",
              "      \n",
              "  <style>\n",
              "    .colab-df-container {\n",
              "      display:flex;\n",
              "      flex-wrap:wrap;\n",
              "      gap: 12px;\n",
              "    }\n",
              "\n",
              "    .colab-df-convert {\n",
              "      background-color: #E8F0FE;\n",
              "      border: none;\n",
              "      border-radius: 50%;\n",
              "      cursor: pointer;\n",
              "      display: none;\n",
              "      fill: #1967D2;\n",
              "      height: 32px;\n",
              "      padding: 0 0 0 0;\n",
              "      width: 32px;\n",
              "    }\n",
              "\n",
              "    .colab-df-convert:hover {\n",
              "      background-color: #E2EBFA;\n",
              "      box-shadow: 0px 1px 2px rgba(60, 64, 67, 0.3), 0px 1px 3px 1px rgba(60, 64, 67, 0.15);\n",
              "      fill: #174EA6;\n",
              "    }\n",
              "\n",
              "    [theme=dark] .colab-df-convert {\n",
              "      background-color: #3B4455;\n",
              "      fill: #D2E3FC;\n",
              "    }\n",
              "\n",
              "    [theme=dark] .colab-df-convert:hover {\n",
              "      background-color: #434B5C;\n",
              "      box-shadow: 0px 1px 3px 1px rgba(0, 0, 0, 0.15);\n",
              "      filter: drop-shadow(0px 1px 2px rgba(0, 0, 0, 0.3));\n",
              "      fill: #FFFFFF;\n",
              "    }\n",
              "  </style>\n",
              "\n",
              "      <script>\n",
              "        const buttonEl =\n",
              "          document.querySelector('#df-710590af-28aa-469a-8b27-b97738dfc276 button.colab-df-convert');\n",
              "        buttonEl.style.display =\n",
              "          google.colab.kernel.accessAllowed ? 'block' : 'none';\n",
              "\n",
              "        async function convertToInteractive(key) {\n",
              "          const element = document.querySelector('#df-710590af-28aa-469a-8b27-b97738dfc276');\n",
              "          const dataTable =\n",
              "            await google.colab.kernel.invokeFunction('convertToInteractive',\n",
              "                                                     [key], {});\n",
              "          if (!dataTable) return;\n",
              "\n",
              "          const docLinkHtml = 'Like what you see? Visit the ' +\n",
              "            '<a target=\"_blank\" href=https://colab.research.google.com/notebooks/data_table.ipynb>data table notebook</a>'\n",
              "            + ' to learn more about interactive tables.';\n",
              "          element.innerHTML = '';\n",
              "          dataTable['output_type'] = 'display_data';\n",
              "          await google.colab.output.renderOutput(dataTable, element);\n",
              "          const docLink = document.createElement('div');\n",
              "          docLink.innerHTML = docLinkHtml;\n",
              "          element.appendChild(docLink);\n",
              "        }\n",
              "      </script>\n",
              "    </div>\n",
              "  </div>\n",
              "  "
            ],
            "text/plain": [
              "              age         bmi    children       charges\n",
              "count  115.000000  115.000000  115.000000    115.000000\n",
              "mean    38.608696   29.608261    1.008696  30678.996276\n",
              "std     14.217419    6.663802    1.135516  11907.536381\n",
              "min     18.000000   17.195000    0.000000  13844.506000\n",
              "25%     26.500000   24.650000    0.000000  19696.432100\n",
              "50%     39.000000   28.380000    1.000000  28950.469200\n",
              "75%     48.500000   34.352500    2.000000  40918.314500\n",
              "max     64.000000   47.600000    5.000000  63770.428010"
            ]
          },
          "execution_count": 71,
          "metadata": {},
          "output_type": "execute_result"
        }
      ],
      "source": [
        "# Rata-rata & Median Pemegang Asuransi Perempuan Perokok\n",
        "data[(data['smoker'] == 'yes') & \n",
        "               (data['sex'] == 'female')].describe()"
      ]
    },
    {
      "cell_type": "markdown",
      "metadata": {
        "id": "H8v8LgMF0Pnt"
      },
      "source": [
        "**Analisis**\n",
        "\n",
        "\n",
        "\n",
        "1.   Kolom tagihan memiliki outlier.\n",
        "2.   Status perokok berpengaruh pada jumlah tagihan medis.\n",
        "3.   BMI memiliki pengaruh pada jumlah tagihan medis (pengaruhnya lebih kecil dibandingkan dengan status perokok).\n",
        "4.   Tidak ada perbedaan tagihan yang signifikan antara laki-laki dan perempuan.\n",
        "5.   Namun, ketika membandingkan perokok laki-laki dan perempuan, rata-rata dan median tagihan perokok laki-laki lebih tinggi daripada perokok perempuan. Hal ini mungkin disebabkan oleh perbedaan varians.\n",
        "\n",
        "\n",
        "\n",
        "\n"
      ]
    },
    {
      "cell_type": "markdown",
      "metadata": {
        "id": "0lMfHPu70_Hp"
      },
      "source": [
        "**B. Categorical Variables Analysis**"
      ]
    },
    {
      "cell_type": "markdown",
      "metadata": {
        "id": "T7MXlA0s1HHg"
      },
      "source": [
        "1. Analisis Proporsi"
      ]
    },
    {
      "cell_type": "code",
      "execution_count": null,
      "metadata": {
        "colab": {
          "base_uri": "https://localhost:8080/"
        },
        "id": "tbrubDIe1RTU",
        "outputId": "fc204b76-15b6-4b10-b0ee-b86e9513640d"
      },
      "outputs": [
        {
          "name": "stdout",
          "output_type": "stream",
          "text": [
            "Jumlah pemegang asuransi di SW: 325\n",
            "Jumlah pemegang asuransi di SE: 364\n",
            "Jumlah pemegang asuransi di NW: 325\n",
            "Jumlah pemegang asuransi di NE: 324\n"
          ]
        }
      ],
      "source": [
        "# a. Proporsi Wilayah\n",
        "sw_ph = len(data[data[\"region\"]==\"southwest\"])\n",
        "se_ph = len(data[data[\"region\"]==\"southeast\"])\n",
        "nw_ph = len(data[data[\"region\"]==\"northwest\"])\n",
        "ne_ph = len(data[data[\"region\"]==\"northeast\"])\n",
        "\n",
        "print(f\"Jumlah pemegang asuransi di SW: {sw_ph}\")\n",
        "print(f\"Jumlah pemegang asuransi di SE: {se_ph}\")\n",
        "print(f\"Jumlah pemegang asuransi di NW: {nw_ph}\")\n",
        "print(f\"Jumlah pemegang asuransi di NE: {ne_ph}\")"
      ]
    },
    {
      "cell_type": "code",
      "execution_count": null,
      "metadata": {
        "colab": {
          "base_uri": "https://localhost:8080/",
          "height": 456
        },
        "id": "o59VxNsd1Uus",
        "outputId": "cd4e091f-53db-4ec1-9729-8dd41c0fbf15"
      },
      "outputs": [
        {
          "data": {
            "text/plain": [
              "([<matplotlib.patches.Wedge at 0x7f9e0fcf2790>,\n",
              "  <matplotlib.patches.Wedge at 0x7f9e0fcf2f50>,\n",
              "  <matplotlib.patches.Wedge at 0x7f9e0fcfc810>,\n",
              "  <matplotlib.patches.Wedge at 0x7f9e0fd04150>],\n",
              " [Text(0.7949723523462666, 0.7602755809606433, 'Pemegang asuransi di Southwest'),\n",
              "  Text(-0.7967552295083369, 0.7584069516104911, 'Pemegang asuransi di  Southeast'),\n",
              "  Text(-0.7201694244483217, -0.8314782018127556, 'Pemegang asuransi di  Northwest'),\n",
              "  Text(0.7967551940047443, -0.7584069889092945, 'Pemegang asuransi di Northeast')],\n",
              " [Text(0.43362128309796355, 0.4146957714330781, '24%'),\n",
              "  Text(-0.4345937615500019, 0.4136765190602678, '27%'),\n",
              "  Text(-0.39281968606272083, -0.45353356462513933, '24%'),\n",
              "  Text(0.4345937421844059, -0.41367653940506965, '24%')])"
            ]
          },
          "execution_count": 73,
          "metadata": {},
          "output_type": "execute_result"
        },
        {
          "data": {
            "image/png": "[encoded data removed]",
            "text/plain": [
              "<Figure size 432x288 with 1 Axes>"
            ]
          },
          "metadata": {},
          "output_type": "display_data"
        }
      ],
      "source": [
        "region_pie_label = [\"Pemegang asuransi di Southwest\",\"Pemegang asuransi di  Southeast\", \"Pemegang asuransi di  Northwest\", \"Pemegang asuransi di Northeast\"]\n",
        "region_pie_data = [sw_ph, se_ph, nw_ph, ne_ph]\n",
        "\n",
        "plt.pie(region_pie_data, labels=region_pie_label, colors=sns.color_palette('Set2'), autopct='%.0f%%')"
      ]
    },
    {
      "cell_type": "code",
      "execution_count": null,
      "metadata": {
        "colab": {
          "base_uri": "https://localhost:8080/"
        },
        "id": "3WtsbGZM2Mlh",
        "outputId": "5011219f-c76d-421a-92fa-84532e1d943b"
      },
      "outputs": [
        {
          "name": "stdout",
          "output_type": "stream",
          "text": [
            "Jumlah perokok pemegang asuransi: 274\n",
            "Jumlah bukan perokok pemegang asuransi: 1064\n"
          ]
        }
      ],
      "source": [
        "# b. Proporsi Status Perokok\n",
        "n_smoker = len(data[data[\"smoker\"]==\"yes\"])\n",
        "n_non_smoker = len(data[data[\"smoker\"]==\"no\"])\n",
        "\n",
        "print(f\"Jumlah perokok pemegang asuransi: {n_smoker}\")\n",
        "print(f\"Jumlah bukan perokok pemegang asuransi: {n_non_smoker}\")"
      ]
    },
    {
      "cell_type": "code",
      "execution_count": null,
      "metadata": {
        "colab": {
          "base_uri": "https://localhost:8080/",
          "height": 352
        },
        "id": "tGxHYvsA2nnP",
        "outputId": "a9d04b1a-5b0c-4266-c3f6-8f998a3d4c6e"
      },
      "outputs": [
        {
          "data": {
            "text/plain": [
              "([<matplotlib.patches.Wedge at 0x7f9e0fcbfe50>,\n",
              "  <matplotlib.patches.Wedge at 0x7f9e0fcce550>],\n",
              " [Text(0.8801026332278259, 0.6598631335250115, 'Perokok'),\n",
              "  Text(-0.880102633227826, -0.6598631335250114, 'Bukan Perokok')],\n",
              " [Text(0.48005598176063224, 0.35992534555909717, '20%'),\n",
              "  Text(-0.4800559817606323, -0.3599253455590971, '80%')])"
            ]
          },
          "execution_count": 75,
          "metadata": {},
          "output_type": "execute_result"
        },
        {
          "data": {
            "image/png": "[encoded data removed]",
            "text/plain": [
              "<Figure size 432x288 with 1 Axes>"
            ]
          },
          "metadata": {},
          "output_type": "display_data"
        }
      ],
      "source": [
        "smoker_color = ['#6c3461', # Smoker\n",
        "                '#ff796c', # Non-smoker\n",
        "               ]\n",
        "smoker_pie_label = [\"Perokok\", \"Bukan Perokok\"]\n",
        "smoker_pie_data = [n_smoker, n_non_smoker]\n",
        "\n",
        "plt.pie(smoker_pie_data, labels=smoker_pie_label, colors=sns.color_palette(smoker_color), autopct='%.0f%%')"
      ]
    },
    {
      "cell_type": "code",
      "execution_count": null,
      "metadata": {
        "colab": {
          "base_uri": "https://localhost:8080/"
        },
        "id": "CEJqe7WU2xKQ",
        "outputId": "8bb187e8-700b-4bf4-88b6-2e3b0d30a6dc"
      },
      "outputs": [
        {
          "name": "stdout",
          "output_type": "stream",
          "text": [
            "Jumlah pria pemegang asuransi: 676\n",
            "Jumlah perempuan pemegang asuransi: 662\n"
          ]
        }
      ],
      "source": [
        "# C. Proporsi Jenis Kelamin\n",
        "n_male = len(data[data[\"sex\"]==\"male\"])\n",
        "n_female = len(data[data[\"sex\"]==\"female\"])\n",
        "\n",
        "print(f\"Jumlah pria pemegang asuransi: {n_male}\")\n",
        "print(f\"Jumlah perempuan pemegang asuransi: {n_female}\")"
      ]
    },
    {
      "cell_type": "code",
      "execution_count": null,
      "metadata": {
        "colab": {
          "base_uri": "https://localhost:8080/",
          "height": 352
        },
        "id": "GP3TuwYK20Iz",
        "outputId": "a4bfcf8a-fcb5-47ee-dc48-d729b91cbd43"
      },
      "outputs": [
        {
          "data": {
            "text/plain": [
              "([<matplotlib.patches.Wedge at 0x7f9e0fc93910>,\n",
              "  <matplotlib.patches.Wedge at 0x7f9e0fc9e050>],\n",
              " [Text(-0.018078568997004985, 1.0998514287589123, 'Pria'),\n",
              "  Text(0.018078568997005343, -1.0998514287589123, 'Perempuan')],\n",
              " [Text(-0.009861037634729992, 0.5999189611412249, '51%'),\n",
              "  Text(0.009861037634730185, -0.5999189611412248, '49%')])"
            ]
          },
          "execution_count": 77,
          "metadata": {},
          "output_type": "execute_result"
        },
        {
          "data": {
            "image/png": "[encoded data removed]",
            "text/plain": [
              "<Figure size 432x288 with 1 Axes>"
            ]
          },
          "metadata": {},
          "output_type": "display_data"
        }
      ],
      "source": [
        "gender_color = ['#36a4c4', #Male\n",
        "                '#cb416b', #Female\n",
        "               ]\n",
        "gender_pie_label = [\"Pria\", \"Perempuan\"]\n",
        "gender_pie_data = [n_male, n_female]\n",
        "\n",
        "plt.pie(gender_pie_data, labels=gender_pie_label, colors=sns.color_palette(gender_color), autopct='%.0f%%')"
      ]
    },
    {
      "cell_type": "markdown",
      "metadata": {
        "id": "NA49ztWE3RLE"
      },
      "source": [
        "2. Probabilitas"
      ]
    },
    {
      "cell_type": "code",
      "execution_count": null,
      "metadata": {
        "colab": {
          "base_uri": "https://localhost:8080/"
        },
        "id": "qvMpQD5q3MNG",
        "outputId": "61377547-abc5-413b-8c95-71a353e6e497"
      },
      "outputs": [
        {
          "name": "stdout",
          "output_type": "stream",
          "text": [
            "n(perokok)= 274\n",
            "n(perokok pria)= 159\n",
            "n(perokok perempuan)= 115 \n",
            "\n",
            "P(pria|perokok)= 0.58\n",
            "P(perempuan|perokok)= 0.42\n"
          ]
        }
      ],
      "source": [
        "# Probabilitas pemegang asuransi pria dan wanita jika diketahui sebagai perokok\n",
        "n_smoker = len(data[data[\"smoker\"]==\"yes\"])\n",
        "n_smoker_female = len(data[(data[\"smoker\"]==\"yes\") & (data[\"sex\"]==\"female\")])\n",
        "n_smoker_male = len(data[(data[\"smoker\"]==\"yes\") & (data[\"sex\"]==\"male\")])\n",
        "\n",
        "print(f\"n(perokok)= {n_smoker}\")\n",
        "print(f\"n(perokok pria)= {n_smoker_male}\")\n",
        "print(f\"n(perokok perempuan)= {n_smoker_female} \\n\")\n",
        "\n",
        "p_smoker_male = n_smoker_male / n_smoker\n",
        "p_smoker_female = n_smoker_female / n_smoker\n",
        "\n",
        "print(f\"P(pria|perokok)= {round(p_smoker_male,2)}\")\n",
        "print(f\"P(perempuan|perokok)= {round(p_smoker_female,2)}\")"
      ]
    },
    {
      "cell_type": "markdown",
      "metadata": {
        "id": "EXm33TJx4BH7"
      },
      "source": [
        "**C. Continuous Variables Analysis**"
      ]
    },
    {
      "cell_type": "markdown",
      "metadata": {
        "id": "63e0BkrB4JVl"
      },
      "source": [
        "1. Mana yang lebih mungkin terjadi di antara dua kondisi di bawah ini:\n",
        "\n",
        "  *   Pemegang asuransi yang merupakan perokok memiliki tagihan pengobatan di atas 16.7k.\n",
        "  *   Pemegang asuransi yang bukan perokok memiliki tagihan medis di atas 16.7k."
      ]
    },
    {
      "cell_type": "code",
      "execution_count": null,
      "metadata": {
        "colab": {
          "base_uri": "https://localhost:8080/"
        },
        "id": "yKl7Yd1i4eS1",
        "outputId": "0d2bc48a-fc74-45e3-f29c-0bea628c83ea"
      },
      "outputs": [
        {
          "name": "stdout",
          "output_type": "stream",
          "text": [
            "n(perokok)= 274\n",
            "n(perokok n tagihan>16.7k)= 254\n",
            "P(perokok n tagihan>16.7k)= 0.927007299270073\n"
          ]
        }
      ],
      "source": [
        "n_smoker = len(data[(data[\"smoker\"]==\"yes\")])\n",
        "n_smoker_ch167 = len(data[(data[\"smoker\"]==\"yes\") & \n",
        "                                    (data[\"charges\"]>16700)])\n",
        "p_smoker_ch167 = n_smoker_ch167 / n_smoker\n",
        "\n",
        "print(\"n(perokok)=\",n_smoker)\n",
        "print(\"n(perokok n tagihan>16.7k)=\",n_smoker_ch167)\n",
        "print(\"P(perokok n tagihan>16.7k)=\",p_smoker_ch167)"
      ]
    },
    {
      "cell_type": "code",
      "execution_count": null,
      "metadata": {
        "colab": {
          "base_uri": "https://localhost:8080/"
        },
        "id": "6iEh3pRu4w41",
        "outputId": "9769f50a-892d-4a5b-c7b7-bbdd620470dc"
      },
      "outputs": [
        {
          "name": "stdout",
          "output_type": "stream",
          "text": [
            "n(bukan perokok)= 1064\n",
            "n(bukan perokok n tagihan>16.7k)= 80\n",
            "P(bukan perokok n tagihan>16.7k)= 0.07518796992481203\n"
          ]
        }
      ],
      "source": [
        "n_nonsmoker = len(data[(data[\"smoker\"]==\"no\")])\n",
        "n_nonsmoker_ch167 = len(data[(data[\"smoker\"]==\"no\") & \n",
        "                                       (data[\"charges\"]>16700)])\n",
        "p_nonsmoker_ch167 = n_nonsmoker_ch167 / n_nonsmoker\n",
        "\n",
        "print(\"n(bukan perokok)=\",n_nonsmoker)\n",
        "print(\"n(bukan perokok n tagihan>16.7k)=\",n_nonsmoker_ch167)\n",
        "print(\"P(bukan perokok n tagihan>16.7k)=\",p_nonsmoker_ch167)"
      ]
    },
    {
      "cell_type": "markdown",
      "metadata": {
        "id": "Cu-M8pYh49ra"
      },
      "source": [
        "Pemegang asuransi yang merupakan perokok lebih cenderung memiliki tagihan medis di atas 16,7 ribu dibandingkan dengan bukan perokok."
      ]
    },
    {
      "cell_type": "markdown",
      "metadata": {
        "id": "-AI6N5Y25GNg"
      },
      "source": [
        "2. Manakah yang lebih mungkin terjadi di antara dua kondisi di bawah ini:\n",
        "\n",
        "    *  Pemegang asuransi dengan BMI di atas 25 memiliki tagihan medis di atas 16.7k\n",
        "    *  Pemegang asuransi dengan BMI di bawah 25 memiliki tagihan medis di atas 16.7k"
      ]
    },
    {
      "cell_type": "code",
      "execution_count": null,
      "metadata": {
        "colab": {
          "base_uri": "https://localhost:8080/"
        },
        "id": "RzmPFzK65a2w",
        "outputId": "0912ae86-24f5-4445-fc5d-348582d89852"
      },
      "outputs": [
        {
          "name": "stdout",
          "output_type": "stream",
          "text": [
            "n(bmi>25)= 1091\n",
            "n(bmi>25 n tagihan>16.7k)= 283\n",
            "P(bmi>25 n tagihan>16.7k)= 0.25939505041246563\n"
          ]
        }
      ],
      "source": [
        "n_bmia25 = len(data[(data[\"bmi\"]>25)])\n",
        "n_bmia25_ch167 = len(data[(data[\"bmi\"]>25) & \n",
        "                                    (data[\"charges\"]>16700)])\n",
        "p_bmia25_ch167 = n_bmia25_ch167 / n_bmia25\n",
        "print(\"n(bmi>25)=\",n_bmia25)\n",
        "print(\"n(bmi>25 n tagihan>16.7k)=\",n_bmia25_ch167)\n",
        "print(\"P(bmi>25 n tagihan>16.7k)=\",p_bmia25_ch167)"
      ]
    },
    {
      "cell_type": "code",
      "execution_count": null,
      "metadata": {
        "colab": {
          "base_uri": "https://localhost:8080/"
        },
        "id": "ASFlD5uN5ks8",
        "outputId": "7521e2d8-b08b-43df-a38a-94a6021e5d69"
      },
      "outputs": [
        {
          "name": "stdout",
          "output_type": "stream",
          "text": [
            "n(bmi<25)= 245\n",
            "n(bmi<25 n tagihan>16.7k)= 51\n",
            "P(bmi<25 n tagihan>16.7k)= 0.20816326530612245\n"
          ]
        }
      ],
      "source": [
        "n_bmiu25 = len(data[(data[\"bmi\"]<25)])\n",
        "n_bmiu25_ch167 = len(data[(data[\"bmi\"]<25) & \n",
        "                                    (data[\"charges\"]>16700)])\n",
        "p_bmiu25_ch167 = n_bmiu25_ch167 / n_bmiu25\n",
        "print(\"n(bmi<25)=\", n_bmiu25)\n",
        "print(\"n(bmi<25 n tagihan>16.7k)=\", n_bmiu25_ch167)\n",
        "print(\"P(bmi<25 n tagihan>16.7k)=\", p_bmiu25_ch167)"
      ]
    },
    {
      "cell_type": "markdown",
      "metadata": {
        "id": "OdCFy4rP5wgs"
      },
      "source": [
        "Pemegang asurasi yang memiliki BMI >25 lebih cenderung memiliki tagihan medis di atas 16,7 ribu dibandingkan dengan mereka yang memiliki BMI <25."
      ]
    },
    {
      "cell_type": "markdown",
      "metadata": {
        "id": "PekwdAwd8T_M"
      },
      "source": [
        "**D. Variables Correlation**"
      ]
    },
    {
      "cell_type": "code",
      "execution_count": null,
      "metadata": {
        "colab": {
          "base_uri": "https://localhost:8080/",
          "height": 527
        },
        "id": "LP36RhTF515p",
        "outputId": "84a5ec37-cc9b-4813-e8bf-0f185ea7b8cb"
      },
      "outputs": [
        {
          "name": "stdout",
          "output_type": "stream",
          "text": [
            "kovarians antara variabel kuantitatif\n",
            "                   age           bmi    children       charges\n",
            "age         197.401387      9.362337    0.719303  5.087480e+04\n",
            "bmi           9.362337     37.187884    0.093795  1.464730e+04\n",
            "children      0.719303      0.093795    1.453213  9.926742e+02\n",
            "charges   50874.802298  14647.304426  992.674197  1.466524e+08 \n",
            "\n",
            "koefisien korelasi antara variabel kuantitatif\n",
            "               age       bmi  children   charges\n",
            "age       1.000000  0.109272  0.042469  0.299008\n",
            "bmi       0.109272  1.000000  0.012759  0.198341\n",
            "children  0.042469  0.012759  1.000000  0.067998\n",
            "charges   0.299008  0.198341  0.067998  1.000000\n"
          ]
        },
        {
          "data": {
            "text/plain": [
              "<matplotlib.axes._subplots.AxesSubplot at 0x7f9e0fe17790>"
            ]
          },
          "execution_count": 83,
          "metadata": {},
          "output_type": "execute_result"
        },
        {
          "data": {
            "image/png": "[encoded data removed]",
            "text/plain": [
              "<Figure size 360x288 with 2 Axes>"
            ]
          },
          "metadata": {},
          "output_type": "display_data"
        }
      ],
      "source": [
        "# 1. Korelasi antara variabel numerik\n",
        "cov_data = data.cov()\n",
        "corr_data = data.corr()\n",
        "\n",
        "print('kovarians antara variabel kuantitatif')\n",
        "print(cov_data,'\\n')\n",
        "print('koefisien korelasi antara variabel kuantitatif')\n",
        "print(corr_data)\n",
        "\n",
        "f, ax = plt.subplots(figsize=(5, 4))\n",
        "plt.title(\"Heat map untuk koefisien korelasi antara variabel kuantitatif\")\n",
        "sns.heatmap(corr_data, mask=np.zeros_like(corr_data, dtype=np.bool), cmap=sns.diverging_palette(240,10,as_cmap=True),\n",
        "            square=True, annot = True, ax=ax)"
      ]
    },
    {
      "cell_type": "markdown",
      "metadata": {
        "id": "b_ZqIiQK9Yk0"
      },
      "source": [
        "Berdasarkan nilai koefisien korelasi antara usia dan tagihan memiliki korelasi tertinggi yaitu 0,3 (positif) dan diikuti oleh IMT dan tagihan dengan nilai koefisien korelasi 0,2 (positif)."
      ]
    },
    {
      "cell_type": "code",
      "execution_count": null,
      "metadata": {
        "colab": {
          "base_uri": "https://localhost:8080/",
          "height": 346
        },
        "id": "zuXWsFaL9d1j",
        "outputId": "1946fc7e-37e7-40e1-d407-57f1bb83c65b"
      },
      "outputs": [
        {
          "data": {
            "text/plain": [
              "<matplotlib.axes._subplots.AxesSubplot at 0x7f9e0fa7d190>"
            ]
          },
          "execution_count": 84,
          "metadata": {},
          "output_type": "execute_result"
        },
        {
          "data": {
            "image/png": "[encoded data removed]",
            "text/plain": [
              "<Figure size 432x288 with 4 Axes>"
            ]
          },
          "metadata": {},
          "output_type": "display_data"
        }
      ],
      "source": [
        "# 2. Korelasi antara variabel numerik dan kategorikal\n",
        "plt.subplots_adjust(bottom=1, right=3, top=2)\n",
        "\n",
        "plt.subplot(141)\n",
        "plt.title(\"tagihan berdasarkan status perokok\")\n",
        "sns.boxplot(y=\"charges\", x=\"smoker\", data =  data, palette = 'magma')\n",
        "\n",
        "plt.subplot(142)\n",
        "plt.title(\"bmi berdasarkan status perokok\")\n",
        "sns.boxplot(y=\"bmi\", x=\"smoker\", data =  data, palette = 'magma')\n",
        "\n",
        "plt.subplot(143)\n",
        "plt.title(\"jumlah anak berdasarkan status perokok\")\n",
        "sns.boxplot(y=\"children\", x=\"smoker\", data =  data, palette = 'magma')\n",
        "\n",
        "plt.subplot(144)\n",
        "plt.title(\"usia berdasarkan status perokok\")\n",
        "sns.boxplot(y=\"age\", x=\"smoker\", data =  data, palette = 'magma')"
      ]
    },
    {
      "cell_type": "markdown",
      "metadata": {
        "id": "xHOA4RKJ92fW"
      },
      "source": [
        "* Perokok telah mengeluarkan tagihan lebih banyak untuk asuransi daripada bukan perokok. Ada outlier pada bukan perokok.\n",
        "* Meskipun memiliki rata-rata yang sama, BMI perokok memiliki kuartil atas yang lebih tinggi dan kuartil bawah yang lebih rendah dibandingkan dengan bukan perokok.\n",
        "* BMI non-perokok memiliki banyak outlier.\n",
        "* Jumlah anak dari perokok dan bukan perokok hampir sama."
      ]
    },
    {
      "cell_type": "code",
      "execution_count": null,
      "metadata": {
        "colab": {
          "base_uri": "https://localhost:8080/",
          "height": 346
        },
        "id": "nLRJbFAt-LXP",
        "outputId": "efec21e2-715a-4dbe-ad40-18d7a8fddeba"
      },
      "outputs": [
        {
          "data": {
            "text/plain": [
              "<matplotlib.axes._subplots.AxesSubplot at 0x7f9e0f86d290>"
            ]
          },
          "execution_count": 85,
          "metadata": {},
          "output_type": "execute_result"
        },
        {
          "data": {
            "image/png": "[encoded data removed]",
            "text/plain": [
              "<Figure size 432x288 with 4 Axes>"
            ]
          },
          "metadata": {},
          "output_type": "display_data"
        }
      ],
      "source": [
        "plt.subplots_adjust(bottom=1, right=3, top=2)\n",
        "\n",
        "plt.subplot(141)\n",
        "plt.title(\"tagihan berdasarkan kelamin\")\n",
        "sns.boxplot(y=\"charges\", x=\"sex\", data =  data, palette = 'magma')\n",
        "\n",
        "plt.subplot(142)\n",
        "plt.title(\"bmi berdasarkan kelamin\")\n",
        "sns.boxplot(y=\"bmi\", x=\"sex\", data =  data, palette = 'magma')\n",
        "\n",
        "plt.subplot(143)\n",
        "plt.title(\"children berdasarkan kelamin\")\n",
        "sns.boxplot(y=\"children\", x=\"sex\", data =  data, palette = 'magma')\n",
        "\n",
        "plt.subplot(144)\n",
        "plt.title(\"age berdasarkan kelamin\")\n",
        "sns.boxplot(y=\"age\", x=\"sex\", data =  data, palette = 'magma')"
      ]
    },
    {
      "cell_type": "markdown",
      "metadata": {
        "id": "Gc_TGHnf-G5_"
      },
      "source": [
        "* Usia rata-rata pemegang asuransi wanita sedikit lebih tinggi daripada pemegang asuransi pria.\n",
        "* Jumlah anak yang dimiliki nasabah laki-laki dan perempuan sama.\n",
        "* BMI pemegang asuransi pria memiliki banyak outlier dan BMI rata-rata pria sedikit lebih tinggi daripada wanita.\n",
        "* Pemegang asuransi laki-laki lebih banyak dikenakan tagihan asuransi. dibandingkan dengan pemegang asuransi perempuan. Ada banyak outlier pada pemegang asuransi wanita."
      ]
    },
    {
      "cell_type": "code",
      "execution_count": null,
      "metadata": {
        "colab": {
          "base_uri": "https://localhost:8080/",
          "height": 346
        },
        "id": "jcAK9CEF-xtT",
        "outputId": "8c1f28fe-1d8a-4161-e8cc-fcf2a0686cbc"
      },
      "outputs": [
        {
          "data": {
            "text/plain": [
              "<matplotlib.axes._subplots.AxesSubplot at 0x7f9e10f69cd0>"
            ]
          },
          "execution_count": 86,
          "metadata": {},
          "output_type": "execute_result"
        },
        {
          "data": {
            "image/png": "[encoded data removed]",
            "text/plain": [
              "<Figure size 432x288 with 4 Axes>"
            ]
          },
          "metadata": {},
          "output_type": "display_data"
        }
      ],
      "source": [
        "plt.subplots_adjust(bottom=1, right=3, top=2)\n",
        "\n",
        "plt.subplot(141)\n",
        "plt.title(\"tagihan berdasarkan wilayah\")\n",
        "sns.boxplot(y=\"charges\", x=\"region\", data =  data, palette = 'magma')\n",
        "\n",
        "plt.subplot(142)\n",
        "plt.title(\"bmi berdasarkan wilayah\")\n",
        "sns.boxplot(y=\"bmi\", x=\"region\", data =  data, palette = 'magma')\n",
        "\n",
        "plt.subplot(143)\n",
        "plt.title(\"children berdasarkan wilayah\")\n",
        "sns.boxplot(y=\"children\", x=\"region\", data =  data, palette = 'magma')\n",
        "\n",
        "plt.subplot(144)\n",
        "plt.title(\"children berdasarkan wilayah\")\n",
        "sns.boxplot(y=\"age\", x=\"region\", data =  data, palette = 'magma')"
      ]
    },
    {
      "cell_type": "markdown",
      "metadata": {
        "id": "IEHdFCR8-8w4"
      },
      "source": [
        "* Usia dan jumlah anak di seluruh wilayah hampir sama.\n",
        "* Rata-rata BMI dari tenggara lebih tinggi dibandingkan dengan daerah lain.\n",
        "* tagihan yang dikeluarkan dari tenggara lebih tinggi dibandingkan dengan daerah lain.\n",
        "* Ada banyak outlier di ujung atas dalam tagihan."
      ]
    },
    {
      "cell_type": "code",
      "execution_count": null,
      "metadata": {
        "colab": {
          "base_uri": "https://localhost:8080/",
          "height": 1000
        },
        "id": "Fg5_FF1l_u_X",
        "outputId": "3ae62637-790d-472c-f3be-15ae89dd4b1b"
      },
      "outputs": [
        {
          "data": {
            "image/png": "[encoded data removed]",
            "text/plain": [
              "<Figure size 418.725x360 with 1 Axes>"
            ]
          },
          "metadata": {},
          "output_type": "display_data"
        },
        {
          "data": {
            "image/png": "[encoded data removed]",
            "text/plain": [
              "<Figure size 418.725x360 with 1 Axes>"
            ]
          },
          "metadata": {},
          "output_type": "display_data"
        },
        {
          "data": {
            "image/png": "[encoded data removed]",
            "text/plain": [
              "<Figure size 418.725x360 with 1 Axes>"
            ]
          },
          "metadata": {},
          "output_type": "display_data"
        }
      ],
      "source": [
        "smoker_color = ['#6c3461', # Smoker\n",
        "                '#ff796c', # Non-smoker\n",
        "               ]\n",
        "\n",
        "ax = sns.lmplot(x = 'age', y = 'charges', data=data, hue='smoker', palette=smoker_color)\n",
        "ax = sns.lmplot(x = 'bmi', y = 'charges', data=data, hue='smoker', palette=smoker_color)\n",
        "ax = sns.lmplot(x = 'children', y = 'charges', data=data, hue='smoker', palette=smoker_color)"
      ]
    },
    {
      "cell_type": "markdown",
      "metadata": {
        "id": "PXNNCGoG_r_E"
      },
      "source": [
        "* Baik pada kelompok perokok maupun bukan perokok, usia memiliki korelasi positif dengan tagihan (tidak bias).\n",
        "* Status perokok mempengaruhi korelasi antara IMT dan tagihan, dimana korelasi meningkat secara signifikan dengan status perokok.\n",
        "* Perokok memiliki anak yang lebih sedikit dibandingkan dengan bukan perokok.\n",
        "* Status perokok tidak memiliki pengaruh yang signifikan terhadap korelasi antara tagihan dan anak."
      ]
    },
    {
      "cell_type": "code",
      "execution_count": null,
      "metadata": {
        "id": "xgaMlaubAOzD"
      },
      "outputs": [],
      "source": [
        "# Uji independensi chi square\n",
        "cont_sex_smoker = pd.crosstab(data['sex'],\n",
        "                              data['smoker'])\n",
        "cont_region_smoker = pd.crosstab(data['region'],\n",
        "                              data['smoker'])\n",
        "cont_region_sex = pd.crosstab(data['region'],\n",
        "                              data['sex'])"
      ]
    },
    {
      "cell_type": "code",
      "execution_count": null,
      "metadata": {
        "colab": {
          "base_uri": "https://localhost:8080/"
        },
        "id": "1_O3xwqDAaF1",
        "outputId": "456abae1-1f4b-429b-9473-4436bc3cb0b0"
      },
      "outputs": [
        {
          "name": "stdout",
          "output_type": "stream",
          "text": [
            "p value is 0.006548143503580696\n",
            "Dependent (reject H0)\n"
          ]
        }
      ],
      "source": [
        "#independency test sex-smoker\n",
        "c, p, dof, expected = chi2_contingency(cont_sex_smoker)\n",
        "p\n",
        "\n",
        "# interpret p-value\n",
        "alpha = 0.05\n",
        "print(\"p value is \" + str(p))\n",
        "if p <= alpha:\n",
        "    print('Dependent (reject H0)')\n",
        "else:\n",
        "    print('Independent (H0 holds true)')"
      ]
    },
    {
      "cell_type": "code",
      "execution_count": null,
      "metadata": {
        "colab": {
          "base_uri": "https://localhost:8080/"
        },
        "id": "9zX_0sOCAf-3",
        "outputId": "9e93700e-5920-46df-d95b-f1289809e33c"
      },
      "outputs": [
        {
          "name": "stdout",
          "output_type": "stream",
          "text": [
            "p value is 0.06171954839170541\n",
            "Independent (H0 holds true)\n"
          ]
        }
      ],
      "source": [
        "#independency test region-smoker\n",
        "c, p, dof, expected = chi2_contingency(cont_region_smoker)\n",
        "p\n",
        "\n",
        "# interpret p-value\n",
        "alpha = 0.05\n",
        "print(\"p value is \" + str(p))\n",
        "if p <= alpha:\n",
        "    print('Dependent (reject H0)')\n",
        "else:\n",
        "    print('Independent (H0 holds true)')"
      ]
    },
    {
      "cell_type": "code",
      "execution_count": null,
      "metadata": {
        "colab": {
          "base_uri": "https://localhost:8080/"
        },
        "id": "3BRR7SojAk03",
        "outputId": "d7a25608-a852-48aa-934d-09c545b25c23"
      },
      "outputs": [
        {
          "name": "stdout",
          "output_type": "stream",
          "text": [
            "p value is 0.9328921288772233\n",
            "Independent (H0 holds true)\n"
          ]
        }
      ],
      "source": [
        "#independency test region-sex\n",
        "c, p, dof, expected = chi2_contingency(cont_region_sex)\n",
        "p\n",
        "\n",
        "# interpret p-value\n",
        "alpha = 0.05\n",
        "print(\"p value is \" + str(p))\n",
        "if p <= alpha:\n",
        "    print('Dependent (reject H0)')\n",
        "else:\n",
        "    print('Independent (H0 holds true)')"
      ]
    },
    {
      "cell_type": "markdown",
      "metadata": {
        "id": "yxlvsIw5AKt2"
      },
      "source": [
        "**E. Pengujian Hipotesis**\n",
        "\n",
        "**1. Pengujian hipotesis: Tagihan medis orang yang merokok lebih besar daripada mereka yang tidak merokok**\n",
        "\n",
        "1. Tentukan hipotesis nol dan alt:\n",
        "   - H0: μ1 <= μ2 Tagihan rata-rata perokok lebih kecil dari atau sama dengan bukan perokok\n",
        "   - H1: μ1 > μ2 Tagihan rata-rata perokok lebih besar daripada bukan perokok\n",
        "2. Tentukan tingkat signifikansi. Jika nilai P kurang dari alpha tolak hipotesis nol.\n",
        "   - α = 0.05\n",
        "3. Identifikasi tes:\n",
        "   - Karena standar deviasi populasi tidak diketahui, maka uji statistik T akan sesuai.\n",
        "   - Tanda > pada hipotesis alternatif menunjukkan uji tail ke arah kanan\n",
        "4. Periksa jumlah sampel:\n",
        "\n"
      ]
    },
    {
      "cell_type": "code",
      "execution_count": null,
      "metadata": {
        "colab": {
          "base_uri": "https://localhost:8080/"
        },
        "id": "kS_W33w8C7ex",
        "outputId": "9a360f85-b9c7-4831-a6cf-31bf43cc8b15"
      },
      "outputs": [
        {
          "name": "stdout",
          "output_type": "stream",
          "text": [
            "jumlah sampel perokok: 274\n",
            "jumlah sampel bukan perokok: 1064\n"
          ]
        }
      ],
      "source": [
        "n_smoker = len(data[data['smoker']=='yes'])\n",
        "n_nonsmoker = len(data[data['smoker']=='no'])\n",
        "print('jumlah sampel perokok:', n_smoker)\n",
        "print('jumlah sampel bukan perokok:', n_nonsmoker)"
      ]
    },
    {
      "cell_type": "markdown",
      "metadata": {
        "id": "YrGcw3KfDOVz"
      },
      "source": [
        "5. Karena ukuran sampel perokok tidak sama dengan bukan perokok, uji bartlett dilakukan untuk memastikan varians sama untuk semua sampel:\n",
        "   - H0: Varians sama untuk semua sampel\n",
        "   - H1: Variansi tidak sama untuk satu pasang atau lebih"
      ]
    },
    {
      "cell_type": "code",
      "execution_count": null,
      "metadata": {
        "colab": {
          "base_uri": "https://localhost:8080/"
        },
        "id": "TGpWuyTlDapv",
        "outputId": "c6c72e2d-98d3-45c0-c3fa-cc069ece3303"
      },
      "outputs": [
        {
          "name": "stdout",
          "output_type": "stream",
          "text": [
            "nilai p-value 5.06089742139399e-52\n",
            "Variansnya tidak sama (reject H0)\n"
          ]
        }
      ],
      "source": [
        "smoker_charges = data.loc[data['smoker']=='yes','charges']\n",
        "nonsmoker_charges = data.loc[data['smoker']=='no','charges']\n",
        "\n",
        "stat_bart, p_bart = stats.bartlett(smoker_charges, nonsmoker_charges)\n",
        "\n",
        "# interpret p-value\n",
        "alpha = 0.05\n",
        "print(\"nilai p-value \" + str(p_bart))\n",
        "if p_bart <= alpha:\n",
        "    print('Variansnya tidak sama (reject H0)')\n",
        "else:\n",
        "    print('Variansnya sama (H0 holds true)')"
      ]
    },
    {
      "cell_type": "markdown",
      "metadata": {
        "id": "lKC_8oCiDvtC"
      },
      "source": [
        "6. Karena pengujian menunjukkan bahwa varians tidak sama, ada dua metode yang tersedia, yaitu:\n",
        "   - Gunakan Welch's t-Test.\n",
        "   - Atau gunakan independent t-test dengan jumlah sampel yang disesuaikan dari bukan perokok.\n",
        "\n",
        "Dalam proyek ini akan digunakan Welch's t-test. Welch's t-test dapat dilakukan dengan menambahkan \"equal_var=False\"."
      ]
    },
    {
      "cell_type": "code",
      "execution_count": null,
      "metadata": {
        "colab": {
          "base_uri": "https://localhost:8080/"
        },
        "id": "6CZjHcBCD6oY",
        "outputId": "830b826f-71f2-42d3-8f29-22a8f4a89c48"
      },
      "outputs": [
        {
          "name": "stdout",
          "output_type": "stream",
          "text": [
            "uji statistik = 32.751887766341824 , p-value =5.88946444671698e-103 , one-tail p-value = 2.94473222335849e-103\n",
            "Tagihan rata-rata perokok lebih besar daripada bukan perokok (reject H0)\n"
          ]
        }
      ],
      "source": [
        "alpha = 0.05\n",
        "t_stat_1, p_val_t1 = stats.ttest_ind(smoker_charges, nonsmoker_charges, equal_var = False)\n",
        "p_value_onetail_1 = p_val_t1/2\n",
        "\n",
        "print(\"uji statistik = {} , p-value ={} , one-tail p-value = {}\".format(t_stat_1,p_val_t1, p_value_onetail_1 ))\n",
        "\n",
        "if p_value_onetail_1 < alpha :\n",
        "    print(\"Tagihan rata-rata perokok lebih besar daripada bukan perokok (reject H0)\")\n",
        "    \n",
        "else:\n",
        "    print(\"Tagihan rata-rata perokok kurang dari atau sama dengan bukan perokok (H0 holds true)\")"
      ]
    },
    {
      "cell_type": "markdown",
      "metadata": {
        "id": "EMYrRkRTEjvg"
      },
      "source": [
        "**2. Pengujian hipotesis: Tagihan medis orang dengan nilai BMI di atas 25 lebih tinggi daripada mereka yang memiliki nilai BMI di bawah 25**\n",
        "\n",
        "1. Tentukan hipotesis nol dan alt:\n",
        "   - H0: μ1 < μ2 Rata-rata tagihan nasabah asuransi dengan BMI di atas 25 lebih kecil dari atau sama dengan mereka yang memiliki nilai BMI di bawah 25\n",
        "   - H1: μ1 > μ2 Tagihan rata-rata pelanggan asuransi dengan BMI di atas 25 lebih besar daripada mereka yang memiliki nilai BMI di bawah 25\n",
        "\n",
        "2. Tentukan tingkat signifikansi. Jika nilai P kurang dari alpha tolak hipotesis nol.\n",
        "   - α = 0.05\n",
        "3. Identifikasi tes:\n",
        "   - Karena standar deviasi populasi tidak diketahui, uji statistik T akan sesuai.\n",
        "   - Tanda > pada hipotesis alternatif menunjukkan uji tail ke arah kanan\n",
        "   \n",
        "   Periksa jumlah sampel\n"
      ]
    },
    {
      "cell_type": "code",
      "execution_count": null,
      "metadata": {
        "colab": {
          "base_uri": "https://localhost:8080/"
        },
        "id": "qLfPSCcEE6ao",
        "outputId": "5ef43369-9886-4382-c6e0-fbd6d451f61e"
      },
      "outputs": [
        {
          "name": "stdout",
          "output_type": "stream",
          "text": [
            "jumlah bmi di atas 25: 1091\n",
            "jumlah bmi di bawah 25: 245\n"
          ]
        }
      ],
      "source": [
        "n_bmi_a_25 = len(data[data['bmi']>25])\n",
        "n_bmi_u_25 = len(data[data['bmi']<25])\n",
        "print('jumlah bmi di atas 25:', n_bmi_a_25)\n",
        "print('jumlah bmi di bawah 25:', n_bmi_u_25)"
      ]
    },
    {
      "cell_type": "markdown",
      "metadata": {
        "id": "SSIqFoF0FrG-"
      },
      "source": [
        "2. Karena ukuran sampel tidak sama, uji bartlett dilakukan untuk memastikan varians sama untuk semua sampel:\n",
        "   - H0: Varians sama untuk semua sampel\n",
        "   - H1: Variansi tidak sama untuk satu pasangan atau lebih"
      ]
    },
    {
      "cell_type": "code",
      "execution_count": null,
      "metadata": {
        "colab": {
          "base_uri": "https://localhost:8080/"
        },
        "id": "My1SaG20F1vx",
        "outputId": "236b5bc4-5def-4505-82be-e1266d4ac787"
      },
      "outputs": [
        {
          "name": "stdout",
          "output_type": "stream",
          "text": [
            "Nilai p-value 2.3532085528057478e-21\n",
            "Variansnya tidak sama (reject H0)\n"
          ]
        }
      ],
      "source": [
        "bmi_a_25_charges = data.loc[data['bmi']>25,'charges']\n",
        "bmi_u_25_charges = data.loc[data['bmi']<25,'charges']\n",
        "\n",
        "stat_bart, p_bart = stats.bartlett(bmi_a_25_charges, bmi_u_25_charges)\n",
        "\n",
        "# interpret p-value\n",
        "alpha = 0.05\n",
        "print(\"Nilai p-value \" + str(p_bart))\n",
        "if p_bart <= alpha:\n",
        "    print('Variansnya tidak sama (reject H0)')\n",
        "else:\n",
        "    print('Variansnya sama  (H0 holds true)')"
      ]
    },
    {
      "cell_type": "markdown",
      "metadata": {
        "id": "cDOCjf0KGJ8i"
      },
      "source": [
        "3. Karena pengujian menunjukkan bahwa varians tidak sama, ada dua metode yang tersedia, yaitu:\n",
        "   - Gunakan Welch's t-Test.\n",
        "   - Atau gunakan independent t-test dengan jumlah sampel yang disesuaikan dari bukan perokok.\n",
        "\n",
        "Dalam proyek ini akan digunakan Welch's t-test. Welch's t-test dapat dilakukan dengan menambahkan \"equal_var=False\"."
      ]
    },
    {
      "cell_type": "code",
      "execution_count": null,
      "metadata": {
        "colab": {
          "base_uri": "https://localhost:8080/"
        },
        "id": "pbtdX13RGT5K",
        "outputId": "c6d5989b-5fbe-4bb2-812e-e1c59a365562"
      },
      "outputs": [
        {
          "name": "stdout",
          "output_type": "stream",
          "text": [
            "uji statistik = 5.929878344096734 , p-value =5.080897303161378e-09 , one-tail p-value = 2.540448651580689e-09\n",
            "Tagihan rata-rata nasabah asuransi dengan BMI di atas 25 lebih besar daripada mereka yang memiliki nilai BMI di bawah 25 (reject H0)\n"
          ]
        }
      ],
      "source": [
        "alpha = 0.05\n",
        "t_stat_2, p_val_t2 = stats.ttest_ind(bmi_a_25_charges, bmi_u_25_charges, equal_var = False)\n",
        "p_value_onetail_2 = p_val_t2/2\n",
        "\n",
        "print(\"uji statistik = {} , p-value ={} , one-tail p-value = {}\".format(t_stat_2,p_val_t2, p_value_onetail_2 ))\n",
        "\n",
        "if p_value_onetail_2 < alpha :\n",
        "    print(\"Tagihan rata-rata nasabah asuransi dengan BMI di atas 25 lebih besar daripada mereka yang memiliki nilai BMI di bawah 25 (reject H0)\")\n",
        "    \n",
        "else:\n",
        "    print(\"Tagihan rata-rata pelanggan asuransi dengan BMI di atas 25 lebih kecil atau sama dengan mereka yang memiliki nilai BMI di bawah 25 (H0 holds true)\")"
      ]
    },
    {
      "cell_type": "markdown",
      "metadata": {
        "id": "8XpxMytTGr94"
      },
      "source": [
        "**3. Pengujian hipotesis: Tagihan medis laki-laki lebih tinggi daripada perempuan**"
      ]
    },
    {
      "cell_type": "markdown",
      "metadata": {
        "id": "oILEA6SIG8eM"
      },
      "source": [
        "1. Tentukan hipotesis nol dan alt:\n",
        "   - H0: μ1 <= μ2 Rata-rata tagihan laki-laki kurang dari atau sama dengan perempuan\n",
        "   - H1: μ1 > μ2 Tagihan rata-rata laki-laki lebih besar dari perempuan\n",
        "2. Tentukan tingkat signifikansi. Jika nilai P kurang dari alpha, tolak hipotesis nol.\n",
        "   - α = 0.05\n",
        "3. Identifikasi tes:\n",
        "   - Karena standar deviasi populasi tidak diketahui, maka uji statistik T akan sesuai.\n",
        "   - Tanda > pada hipotesis alternatif menunjukkan uji tail ke arah kanan\n",
        "4. Periksa jumlah sampel:"
      ]
    },
    {
      "cell_type": "code",
      "execution_count": null,
      "metadata": {
        "colab": {
          "base_uri": "https://localhost:8080/"
        },
        "id": "nm11kVVVHKB-",
        "outputId": "f107608a-10ba-4fac-81e3-63bb8ff77e34"
      },
      "outputs": [
        {
          "name": "stdout",
          "output_type": "stream",
          "text": [
            "jumlah pria: 676\n",
            "jumlah perempuan: 662\n"
          ]
        }
      ],
      "source": [
        "n_male = len(data[data['sex']=='male'])\n",
        "n_female = len(data[data['sex']=='female'])\n",
        "print('jumlah pria:', n_male)\n",
        "print('jumlah perempuan:', n_female)"
      ]
    },
    {
      "cell_type": "markdown",
      "metadata": {
        "id": "G7_82MkrHbE-"
      },
      "source": [
        "5. Ukuran sampel hampir sama, namun kita tetap akan melakukan uji bartlett untuk memastikan varians sama untuk semua sampel:\n",
        "   - H0: Varians sama untuk semua sampel\n",
        "   - H1: Variansi tidak sama untuk satu pasangan atau lebih"
      ]
    },
    {
      "cell_type": "code",
      "execution_count": null,
      "metadata": {
        "colab": {
          "base_uri": "https://localhost:8080/"
        },
        "id": "NWWcmydVHjux",
        "outputId": "ad473340-4b5e-488c-c682-1d5813f22f14"
      },
      "outputs": [
        {
          "name": "stdout",
          "output_type": "stream",
          "text": [
            "nilai p-value 7.886776680290195e-05\n",
            "Variansinya tidak sama (reject H0)\n"
          ]
        }
      ],
      "source": [
        "male_charges = data.loc[data['sex']=='male','charges']\n",
        "female_charges = data.loc[data['sex']=='female','charges']\n",
        "\n",
        "stat_bart, p_bart = stats.bartlett(male_charges, female_charges)\n",
        "\n",
        "# interpret p-value\n",
        "alpha = 0.05\n",
        "print(\"nilai p-value \" + str(p_bart))\n",
        "if p_bart <= alpha:\n",
        "    print('Variansinya tidak sama (reject H0)')\n",
        "else:\n",
        "    print('Variansinya sama (H0 holds true)')"
      ]
    },
    {
      "cell_type": "markdown",
      "metadata": {
        "id": "yzteMb0pHxG3"
      },
      "source": [
        "6. Karena pengujian menunjukkan bahwa varians tidak sama, ada dua metode yang tersedia, yaitu:\n",
        "   - Gunakan Welch's t-Test.\n",
        "   - Atau gunakan independent t-test dengan jumlah sampel yang disesuaikan dari bukan perokok.\n",
        "\n",
        "Dalam proyek ini akan digunakan Welch's t-test. Welch's t-test dapat dilakukan dengan menambahkan \"equal_var=False\"."
      ]
    },
    {
      "cell_type": "code",
      "execution_count": null,
      "metadata": {
        "colab": {
          "base_uri": "https://localhost:8080/"
        },
        "id": "fVsh3B0lH4tf",
        "outputId": "b368d221-07fa-4fde-b43b-5f0e212d4a43"
      },
      "outputs": [
        {
          "name": "stdout",
          "output_type": "stream",
          "text": [
            "uji statistik = 2.1008878232359565 , p-value =0.035841014956016645 , one-tail p-value = 0.017920507478008323\n",
            "Tagihan rata-rata laki-laki lebih besar daripada perempuan (reject H0)\n"
          ]
        }
      ],
      "source": [
        "alpha = 0.05\n",
        "t_stat_3, p_val_t3 = stats.ttest_ind(male_charges, female_charges, equal_var = False)\n",
        "p_value_onetail_3 = p_val_t3/2\n",
        "\n",
        "print(\"uji statistik = {} , p-value ={} , one-tail p-value = {}\".format(t_stat_3,p_val_t3, p_value_onetail_3 ))\n",
        "\n",
        "if p_value_onetail_3 < alpha :\n",
        "    print(\"Tagihan rata-rata laki-laki lebih besar daripada perempuan (reject H0)\")\n",
        "    \n",
        "else:\n",
        "    print(\"Tagihan rata-rata laki-laki kurang dari atau sama dengan perempuan (H0 holds true)\")"
      ]
    },
    {
      "cell_type": "markdown",
      "metadata": {
        "id": "Y1vWHG-dIFzD"
      },
      "source": [
        "**Kesimpulan**\n",
        "\n",
        "1. Berdasarkan analisis yang dilakukan, beberapa variabel berpengaruh signifikan terhadap nilai tagihan pengobatan seorang nasabah asuransi. Variabel-variabel tersebut antara lain:\n",
        "   - BMI\n",
        "   - Usia\n",
        "   - Status Perokok\n",
        "   - Jenis Kelamin\n",
        "2. Seseorang dengan nilai BMI yang tinggi lebih rentan terhadap penyakit, yang dapat menyebabkan tagihan medis yang lebih tinggi.\n",
        "3. Jenis kelamin berpengaruh pada nilai tagihan, di mana laki-laki memiliki tagihan yang lebih tinggi dibandingkan dengan perempuan. Namun, perbedaan antara kedua jenis kelamin tersebut kecil.\n",
        "4. Usia berpengaruh pada nilai tagihan, karena pelanggan yang lebih tua lebih rentan terhadap penyakit.\n",
        "5. Status perokok memiliki dampak besar pada nilai tagihan.\n",
        "6. Selain itu status perokok dapat meningkatkan efek BMI dan usia terhadap nilai tagihan.\n",
        "\n",
        "Beberapa variabel memiliki pengaruh pada jumlah tagihan medis. Namun, satu-satunya variabel yang dapat dikontrol adalah BMI dan status perokok. Dengan demikian, penyedia asuransi harus fokus pada dua variabel ini untuk menekan selisih tagihan medis."
      ]
    }
  ],
  "metadata": {
    "colab": {
      "provenance": []
    },
    "kernelspec": {
      "display_name": "Python 3",
      "language": "python",
      "name": "python3"
    },
    "language_info": {
      "codemirror_mode": {
        "name": "ipython",
        "version": 3
      },
      "file_extension": ".py",
      "mimetype": "text/x-python",
      "name": "python",
      "nbconvert_exporter": "python",
      "pygments_lexer": "ipython3",
      "version": "3.10.4"
    },
    "vscode": {
      "interpreter": {
        "hash": "d2c5e98b7c1014d13e0bebe4110d081b1f8ccfa6c9826bbe9dd927ab5e932a30"
      }
    }
  },
  "nbformat": 4,
  "nbformat_minor": 0
}
